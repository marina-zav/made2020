{
 "cells": [
  {
   "cell_type": "code",
   "execution_count": 1,
   "id": "74091499",
   "metadata": {
    "ExecuteTime": {
     "end_time": "2022-01-10T11:32:00.199251Z",
     "start_time": "2022-01-10T11:32:00.195495Z"
    }
   },
   "outputs": [],
   "source": [
    "# ! pip install gym==0.19.0 matplotlib tqdm loguru"
   ]
  },
  {
   "cell_type": "code",
   "execution_count": 1,
   "id": "6692dba9",
   "metadata": {
    "ExecuteTime": {
     "end_time": "2022-01-10T11:32:01.841398Z",
     "start_time": "2022-01-10T11:32:00.453513Z"
    }
   },
   "outputs": [],
   "source": [
    "import math\n",
    "import random\n",
    "from collections import defaultdict, deque\n",
    "from itertools import product\n",
    "\n",
    "import gym\n",
    "import numpy as np\n",
    "from loguru import logger\n",
    "from IPython.display import display\n",
    "from tqdm import tqdm\n",
    "import matplotlib.pyplot as plt"
   ]
  },
  {
   "cell_type": "markdown",
   "id": "4ab08fb2",
   "metadata": {},
   "source": [
    "# Часть первая, с блекджеком и стратегиями\n",
    "Мы будем обучаться играть в очень простую, но знаменитую и популярную игру: блекджек. \n",
    "\n",
    "Правила блекджека достаточно просты; давайте начнём с самой базовой версии, которая реализована в OpenAI Gym:\n",
    "* численные значения карт равны от 2 до 10 для карт от двойки до десятки, 10 для валетов, дам и королей;\n",
    "* туз считается за 11 очков, если общая сумма карт на руке при этом не превосходит 21 (по-английски в этом случае говорят, что на руке есть usable ace), и за 1 очко, если превосходит;\n",
    "* игроку раздаются две карты, дилеру — одна в открытую и одна в закрытую;\n",
    "* игрок может совершать одно из двух действий:\n",
    "* hit  — взять ещё одну карту;\n",
    "* stand — не брать больше карт;\n",
    "* если сумма очков у игрока на руках больше 21, он проигрывает (bust);\n",
    "* если игрок выбирает stand с суммой не больше 21, дилер добирает карты, пока сумма карт в его руке меньше 17;\n",
    "* после этого игрок выигрывает, если дилер либо превышает 21, либо получает сумму очков меньше, чем сумма очков у игрока; \n",
    "* при равенстве очков объявляется ничья (ставка возвращается);\n",
    "* в исходных правилах есть ещё дополнительный бонус за natural blackjack: если игрок набирает 21 очко с раздачи, двумя картами, он выигрывает не +1, а +1.5 (полторы ставки).\n",
    "\n",
    "Именно этот простейший вариант блекджека реализован в OpenAI Gym:\n",
    "https://github.com/openai/gym/blob/master/gym/envs/toy_text/blackjack.py \n",
    "Рассмотрим очень простую стратегию: говорить stand, если у нас на руках комбинация в 19, 20 или 21 очко, во всех остальных случаях говорить hit. Используйте методы Монте-Карло, чтобы оценить выигрыш от этой стратегии.\n",
    "Реализуйте метод обучения с подкреплением без модели (можно Q-обучение, но рекомендую попробовать и другие, например Monte Carlo control) для обучения стратегии в блекджеке, используя окружение Blackjack-v0 из OpenAI Gym.\n",
    "Сколько выигрывает казино у вашей стратегии? Нарисуйте графики среднего дохода вашего метода (усреднённого по крайней мере по 100000 раздач, а лучше больше) по ходу обучения. Попробуйте подобрать оптимальные гиперпараметры."
   ]
  },
  {
   "cell_type": "code",
   "execution_count": 2,
   "id": "a7ebfee1",
   "metadata": {
    "ExecuteTime": {
     "end_time": "2022-01-10T11:32:12.318058Z",
     "start_time": "2022-01-10T11:32:04.232892Z"
    }
   },
   "outputs": [],
   "source": [
    "env = gym.make('Blackjack-v0', natural=True)"
   ]
  },
  {
   "cell_type": "code",
   "execution_count": 3,
   "id": "b4cc4f73",
   "metadata": {
    "ExecuteTime": {
     "end_time": "2022-01-10T11:32:12.323009Z",
     "start_time": "2022-01-10T11:32:12.319942Z"
    }
   },
   "outputs": [],
   "source": [
    "# кастомный argmax -- np.argmax возвращает индекс первого из максимальных значений (если их больше 1)\n",
    "def random_argmax(probs):\n",
    "    max_p = max(probs)\n",
    "    return random.choice([i for i, p in enumerate(probs) if p == max_p])"
   ]
  },
  {
   "cell_type": "code",
   "execution_count": 4,
   "id": "6d6525be",
   "metadata": {
    "ExecuteTime": {
     "end_time": "2022-01-10T11:33:04.508463Z",
     "start_time": "2022-01-10T11:33:04.505540Z"
    }
   },
   "outputs": [],
   "source": [
    "def round_episodes(n_episodes, n_round=1e4):\n",
    "    return int(math.ceil(n_episodes / n_round) * n_round)"
   ]
  },
  {
   "cell_type": "code",
   "execution_count": 5,
   "id": "d3797633",
   "metadata": {
    "ExecuteTime": {
     "end_time": "2022-01-10T11:33:05.230851Z",
     "start_time": "2022-01-10T11:33:05.223643Z"
    }
   },
   "outputs": [],
   "source": [
    "class BlackJackActor:\n",
    "    def __init__(self, env, policy_func):\n",
    "        self.env = env\n",
    "        self.policy_func = policy_func\n",
    "        self.n_actions = self.env.action_space.n\n",
    "        \n",
    "    def best_action(self, obs):\n",
    "        return random_argmax(self.policy_func(obs))    \n",
    "        \n",
    "    def sample_action(self, obs):\n",
    "        return random.choices(range(self.n_actions), weights=self.policy_func(obs), k=1)[0]\n",
    "        \n",
    "    def play_episode(self, mode):\n",
    "        self.env.reset()\n",
    "        episode = []\n",
    "        done = False\n",
    "        obs = self.env._get_obs()\n",
    "        while not done:\n",
    "            if mode == \"predict\":\n",
    "                action = self.best_action(obs)\n",
    "            elif mode == \"sample\":\n",
    "                action = self.sample_action(obs)\n",
    "            else:\n",
    "                raise ValueError(\"Unknown play episode mode\")\n",
    "            next_obs, reward, done, _ = self.env.step(action)\n",
    "            episode.append((obs, action, next_obs, reward))\n",
    "            obs = next_obs\n",
    "        return episode"
   ]
  },
  {
   "cell_type": "markdown",
   "id": "ec287079",
   "metadata": {},
   "source": [
    "* Оценка методом Монте-Карло + отрисовка результатов"
   ]
  },
  {
   "cell_type": "code",
   "execution_count": 6,
   "id": "0627e520",
   "metadata": {
    "ExecuteTime": {
     "end_time": "2022-01-10T12:05:36.673072Z",
     "start_time": "2022-01-10T12:05:36.668039Z"
    }
   },
   "outputs": [],
   "source": [
    "def mc_eval(actor, n_episodes, n_round=10_000):\n",
    "    n_episodes = round_episodes(n_episodes)\n",
    "    rewards = np.zeros(n_episodes)\n",
    "    for i in tqdm(range(int(n_episodes / n_round))):\n",
    "        for j in range(n_round):\n",
    "            *_, rewards[i * n_round + j] = actor.play_episode(mode=\"predict\")[-1]\n",
    "        \n",
    "    return np.cumsum(rewards) / (np.arange(len(rewards)) + 1)"
   ]
  },
  {
   "cell_type": "code",
   "execution_count": 7,
   "id": "52019879",
   "metadata": {
    "ExecuteTime": {
     "end_time": "2022-01-10T12:05:39.562520Z",
     "start_time": "2022-01-10T12:05:39.558118Z"
    }
   },
   "outputs": [],
   "source": [
    "def draw_results(avg_reward):\n",
    "    fig = plt.figure(figsize=(20,10))\n",
    "\n",
    "    ax = fig.add_subplot(211)\n",
    "    ax.plot(avg_reward)\n",
    "    ax.set_xlabel(\"Episodes\")\n",
    "    ax.set_ylabel(\"Average reward\")\n",
    "\n",
    "#     ax = fig.add_subplot(212)\n",
    "#     idx_to_draw = np.arange(int(len(avg_reward) / 2), int(len(avg_reward)))\n",
    "#     ax.plot(idx_to_draw, avg_reward[idx_to_draw])\n",
    "#     ax.set_xlabel(\"Episodes (the second half)\")\n",
    "#     ax.set_ylabel(\"Average reward\")\n",
    "\n",
    "    display(fig)\n",
    "    logger.info(f\"Averaged reward = {avg_reward[-1]}\")\n",
    "    plt.close() "
   ]
  },
  {
   "cell_type": "markdown",
   "id": "4ad244ae",
   "metadata": {},
   "source": [
    "* Rule-based policy - по трэшхолду"
   ]
  },
  {
   "cell_type": "code",
   "execution_count": 8,
   "id": "7533b610",
   "metadata": {
    "ExecuteTime": {
     "end_time": "2022-01-10T12:05:40.635172Z",
     "start_time": "2022-01-10T12:05:40.631884Z"
    }
   },
   "outputs": [],
   "source": [
    "def threshold_policy(stop_hand):\n",
    "    def _policy(obs):\n",
    "        # sum_hand, dealer_first, usable_ace_flag\n",
    "        sum_hand, _, _ = obs\n",
    "        return [0, 1] if sum_hand < stop_hand else [1, 0]\n",
    "    return _policy"
   ]
  },
  {
   "cell_type": "markdown",
   "id": "d4b52f86",
   "metadata": {},
   "source": [
    "* Оценим простую стратегию с трешхолдом = 19"
   ]
  },
  {
   "cell_type": "code",
   "execution_count": 9,
   "id": "f3dbf5b3",
   "metadata": {
    "ExecuteTime": {
     "end_time": "2022-01-10T12:06:17.610490Z",
     "start_time": "2022-01-10T12:06:17.318694Z"
    }
   },
   "outputs": [
    {
     "name": "stderr",
     "output_type": "stream",
     "text": [
      "100%|██████████| 30/30 [00:16<00:00,  1.78it/s]\n"
     ]
    },
    {
     "data": {
      "image/png": "[encoded data removed]",
      "text/plain": [
       "<Figure size 1440x720 with 1 Axes>"
      ]
     },
     "metadata": {},
     "output_type": "display_data"
    },
    {
     "name": "stderr",
     "output_type": "stream",
     "text": [
      "2022-01-10 16:27:12.986 | INFO     | __main__:draw_results:16 - Averaged reward = -0.17683833333333332\n"
     ]
    }
   ],
   "source": [
    "random.seed(100)\n",
    "env = gym.make('Blackjack-v0', natural=True)\n",
    "\n",
    "actor = BlackJackActor(env=env, policy_func=threshold_policy(stop_hand=19))\n",
    "cum_avg_reward = mc_eval(actor, n_episodes=300_000)\n",
    "draw_results(cum_avg_reward)"
   ]
  },
  {
   "cell_type": "code",
   "execution_count": null,
   "id": "e5cd225e",
   "metadata": {},
   "outputs": [],
   "source": []
  },
  {
   "cell_type": "markdown",
   "id": "b027a379",
   "metadata": {},
   "source": [
    "* Monte-Carlo Control - off/on policy"
   ]
  },
  {
   "cell_type": "code",
   "execution_count": 10,
   "id": "07495657",
   "metadata": {
    "ExecuteTime": {
     "end_time": "2022-01-10T12:19:13.602920Z",
     "start_time": "2022-01-10T12:19:13.599730Z"
    }
   },
   "outputs": [],
   "source": [
    "def random_policy(n_actions):\n",
    "    probs = [1. / n_actions] * n_actions\n",
    "    def _policy(obs):\n",
    "        return probs\n",
    "    return _policy"
   ]
  },
  {
   "cell_type": "code",
   "execution_count": 11,
   "id": "42bbeb91",
   "metadata": {
    "ExecuteTime": {
     "end_time": "2022-01-10T12:19:14.477843Z",
     "start_time": "2022-01-10T12:19:14.474208Z"
    }
   },
   "outputs": [],
   "source": [
    "def eps_greedy_policy(Q, eps, n_actions):\n",
    "    probs = [eps / n_actions] * n_actions\n",
    "    def _policy(obs):\n",
    "        probs[random_argmax(Q[obs])] += 1 - eps\n",
    "        return probs\n",
    "    return _policy"
   ]
  },
  {
   "cell_type": "code",
   "execution_count": 12,
   "id": "54b8cf6b",
   "metadata": {
    "ExecuteTime": {
     "end_time": "2022-01-10T12:19:15.078061Z",
     "start_time": "2022-01-10T12:19:15.071063Z"
    }
   },
   "outputs": [],
   "source": [
    "def mcc_off_policy(env, n_episodes, eps=0.0, gamma=1.0):\n",
    "    n_episodes = round_episodes(n_episodes)\n",
    "    Q = defaultdict(lambda: [0.] * env.action_space.n)\n",
    "    C = defaultdict(lambda: [0.] * env.action_space.n)\n",
    "    \n",
    "    target_policy = eps_greedy_policy(Q, eps, env.action_space.n)\n",
    "    behavior_policy = random_policy(env.action_space.n)\n",
    "    actor = BlackJackActor(env=env, policy_func=behavior_policy)\n",
    "\n",
    "    for _ in tqdm(range(int(n_episodes / 1e4))):\n",
    "        for _ in range(int(1e4)):\n",
    "            episode = actor.play_episode(mode=\"sample\")\n",
    "\n",
    "            G = 0.0\n",
    "            W = 1.0\n",
    "            while episode:\n",
    "                obs, action, *_, reward = episode.pop()\n",
    "                G = gamma * G + reward\n",
    "                C[obs][action] += W\n",
    "                Q[obs][action] += (W / C[obs][action]) * (G - Q[obs][action])\n",
    "                if action !=  random_argmax(target_policy(obs)):\n",
    "                    break\n",
    "                W /= behavior_policy(obs)[action]\n",
    "    \n",
    "    actor.policy_func = target_policy\n",
    "    return Q, actor"
   ]
  },
  {
   "cell_type": "code",
   "execution_count": 13,
   "id": "cb079aec",
   "metadata": {
    "ExecuteTime": {
     "end_time": "2022-01-10T12:19:16.241772Z",
     "start_time": "2022-01-10T12:19:16.234233Z"
    }
   },
   "outputs": [],
   "source": [
    "def mcc_on_policy(env, n_episodes, eps=0.0, gamma=1.0):\n",
    "    n_episodes = round_episodes(n_episodes)\n",
    "    Q = defaultdict(lambda: [0.] * env.action_space.n)\n",
    "    R_sum = defaultdict(lambda: [0.] * env.action_space.n)\n",
    "    R_count = defaultdict(lambda: [0] * env.action_space.n)\n",
    "    \n",
    "    actor = BlackJackActor(env=env, policy_func=eps_greedy_policy(Q, eps, env.action_space.n))\n",
    "\n",
    "    for _ in tqdm(range(int(n_episodes / 1e4))):\n",
    "        for _ in range(int(1e4)):\n",
    "            episode = actor.play_episode(mode=\"sample\")\n",
    "            observations = [obs for obs, *_ in episode]\n",
    "            i = 1\n",
    "            G = 0.\n",
    "            while episode:\n",
    "                obs, action, *_, reward = episode.pop()\n",
    "                G = gamma * G + reward\n",
    "                if not obs in observations[:-i]:\n",
    "                    R_sum[obs][action] += G\n",
    "                    R_count[obs][action] += 1\n",
    "                    Q[obs][action] = R_sum[obs][action] / R_count[obs][action]\n",
    "\n",
    "                i += 1\n",
    "        \n",
    "    return Q, actor"
   ]
  },
  {
   "cell_type": "code",
   "execution_count": null,
   "id": "414d710b",
   "metadata": {},
   "outputs": [],
   "source": []
  },
  {
   "cell_type": "markdown",
   "id": "3d81c34d",
   "metadata": {},
   "source": [
    "* Оценим качество стратегий, обученных методом MCC"
   ]
  },
  {
   "cell_type": "code",
   "execution_count": 14,
   "id": "b8648332",
   "metadata": {
    "ExecuteTime": {
     "end_time": "2022-01-10T12:20:00.540398Z",
     "start_time": "2022-01-10T12:19:27.169068Z"
    }
   },
   "outputs": [
    {
     "name": "stderr",
     "output_type": "stream",
     "text": [
      "100%|██████████| 30/30 [00:19<00:00,  1.53it/s]\n"
     ]
    }
   ],
   "source": [
    "random.seed(100)\n",
    "env = gym.make('Blackjack-v0', natural=True)\n",
    "\n",
    "Q, actor = mcc_off_policy(env, n_episodes=300_000)"
   ]
  },
  {
   "cell_type": "code",
   "execution_count": 15,
   "id": "e51d94e0",
   "metadata": {
    "ExecuteTime": {
     "end_time": "2022-01-10T12:20:44.730271Z",
     "start_time": "2022-01-10T12:20:44.564292Z"
    }
   },
   "outputs": [
    {
     "name": "stderr",
     "output_type": "stream",
     "text": [
      "100%|██████████| 30/30 [00:14<00:00,  2.07it/s]\n"
     ]
    },
    {
     "data": {
      "image/png": "[encoded data removed]",
      "text/plain": [
       "<Figure size 1440x720 with 1 Axes>"
      ]
     },
     "metadata": {},
     "output_type": "display_data"
    },
    {
     "name": "stderr",
     "output_type": "stream",
     "text": [
      "2022-01-10 16:27:47.349 | INFO     | __main__:draw_results:16 - Averaged reward = -0.16499666666666668\n"
     ]
    }
   ],
   "source": [
    "cum_avg_reward = mc_eval(actor, n_episodes=300_000)\n",
    "draw_results(cum_avg_reward)"
   ]
  },
  {
   "cell_type": "code",
   "execution_count": 17,
   "id": "fb70cb3b",
   "metadata": {
    "ExecuteTime": {
     "end_time": "2022-01-10T12:21:36.574466Z",
     "start_time": "2022-01-10T12:21:04.694922Z"
    }
   },
   "outputs": [
    {
     "name": "stderr",
     "output_type": "stream",
     "text": [
      "100%|██████████| 30/30 [00:17<00:00,  1.71it/s]\n"
     ]
    }
   ],
   "source": [
    "random.seed(100)\n",
    "env = gym.make('Blackjack-v0', natural=True)\n",
    "\n",
    "Q, actor = mcc_on_policy(env, n_episodes=300_000)"
   ]
  },
  {
   "cell_type": "code",
   "execution_count": 18,
   "id": "61928848",
   "metadata": {
    "ExecuteTime": {
     "end_time": "2022-01-10T12:22:04.600821Z",
     "start_time": "2022-01-10T12:22:04.448463Z"
    }
   },
   "outputs": [
    {
     "name": "stderr",
     "output_type": "stream",
     "text": [
      "100%|██████████| 30/30 [00:13<00:00,  2.15it/s]\n"
     ]
    },
    {
     "data": {
      "image/png": "[encoded data removed]",
      "text/plain": [
       "<Figure size 1440x720 with 1 Axes>"
      ]
     },
     "metadata": {},
     "output_type": "display_data"
    },
    {
     "name": "stderr",
     "output_type": "stream",
     "text": [
      "2022-01-10 16:28:43.750 | INFO     | __main__:draw_results:16 - Averaged reward = -0.17014\n"
     ]
    }
   ],
   "source": [
    "cum_avg_reward = mc_eval(actor, n_episodes=300_000)\n",
    "draw_results(cum_avg_reward)"
   ]
  },
  {
   "cell_type": "code",
   "execution_count": null,
   "id": "917c79be",
   "metadata": {},
   "outputs": [],
   "source": []
  },
  {
   "cell_type": "markdown",
   "id": "738f2392",
   "metadata": {},
   "source": [
    "* Попробуем подобрать гиперпараметры"
   ]
  },
  {
   "cell_type": "code",
   "execution_count": 19,
   "id": "92fc1251",
   "metadata": {
    "ExecuteTime": {
     "end_time": "2022-01-10T13:06:29.120129Z",
     "start_time": "2022-01-10T13:06:29.116987Z"
    }
   },
   "outputs": [],
   "source": [
    "eps_ = [0.05]\n",
    "gamma_ = [1.0, 0.98, 0.96, 0.94, 0.92, 0.9, 0.85, 0.8]"
   ]
  },
  {
   "cell_type": "code",
   "execution_count": 20,
   "id": "6128bcce",
   "metadata": {
    "ExecuteTime": {
     "end_time": "2022-01-10T13:10:33.827280Z",
     "start_time": "2022-01-10T13:07:39.108997Z"
    },
    "scrolled": true
   },
   "outputs": [
    {
     "name": "stderr",
     "output_type": "stream",
     "text": [
      "mcc_on_poicy:   0%|          | 0/8 [00:00<?, ?it/s]\n",
      "  0%|          | 0/10 [00:00<?, ?it/s]\u001b[A\n",
      " 10%|█         | 1/10 [00:00<00:05,  1.70it/s]\u001b[A\n",
      " 20%|██        | 2/10 [00:01<00:04,  1.72it/s]\u001b[A\n",
      " 30%|███       | 3/10 [00:01<00:04,  1.73it/s]\u001b[A\n",
      " 40%|████      | 4/10 [00:02<00:03,  1.73it/s]\u001b[A\n",
      " 50%|█████     | 5/10 [00:02<00:02,  1.69it/s]\u001b[A\n",
      " 60%|██████    | 6/10 [00:03<00:02,  1.69it/s]\u001b[A\n",
      " 70%|███████   | 7/10 [00:04<00:01,  1.71it/s]\u001b[A\n",
      " 80%|████████  | 8/10 [00:04<00:01,  1.72it/s]\u001b[A\n",
      " 90%|█████████ | 9/10 [00:05<00:00,  1.73it/s]\u001b[A\n",
      "100%|██████████| 10/10 [00:05<00:00,  1.72it/s]\u001b[A\n",
      "\n",
      "  0%|          | 0/10 [00:00<?, ?it/s]\u001b[A\n",
      " 10%|█         | 1/10 [00:00<00:04,  2.01it/s]\u001b[A\n",
      " 20%|██        | 2/10 [00:00<00:03,  2.04it/s]\u001b[A\n",
      " 30%|███       | 3/10 [00:01<00:03,  2.06it/s]\u001b[A\n",
      " 40%|████      | 4/10 [00:01<00:02,  2.05it/s]\u001b[A\n",
      " 50%|█████     | 5/10 [00:02<00:02,  2.04it/s]\u001b[A\n",
      " 60%|██████    | 6/10 [00:02<00:01,  2.01it/s]\u001b[A\n",
      " 70%|███████   | 7/10 [00:03<00:01,  2.03it/s]\u001b[A\n",
      " 80%|████████  | 8/10 [00:03<00:00,  2.03it/s]\u001b[A\n",
      " 90%|█████████ | 9/10 [00:04<00:00,  2.01it/s]\u001b[A\n",
      "100%|██████████| 10/10 [00:04<00:00,  2.03it/s]\u001b[A\n",
      "2022-01-10 16:28:54.509 | INFO     | __main__:<module>:6 - eps=0.05, gamma=1.0: avg reward = -0.166885\n",
      "mcc_on_poicy:  12%|█▎        | 1/8 [00:10<01:15, 10.75s/it]\n",
      "  0%|          | 0/10 [00:00<?, ?it/s]\u001b[A\n",
      " 10%|█         | 1/10 [00:00<00:05,  1.74it/s]\u001b[A\n",
      " 20%|██        | 2/10 [00:01<00:04,  1.76it/s]\u001b[A\n",
      " 30%|███       | 3/10 [00:01<00:03,  1.78it/s]\u001b[A\n",
      " 40%|████      | 4/10 [00:02<00:03,  1.79it/s]\u001b[A\n",
      " 50%|█████     | 5/10 [00:02<00:02,  1.79it/s]\u001b[A\n",
      " 60%|██████    | 6/10 [00:03<00:02,  1.79it/s]\u001b[A\n",
      " 70%|███████   | 7/10 [00:03<00:01,  1.78it/s]\u001b[A\n",
      " 80%|████████  | 8/10 [00:04<00:01,  1.77it/s]\u001b[A\n",
      " 90%|█████████ | 9/10 [00:05<00:00,  1.76it/s]\u001b[A\n",
      "100%|██████████| 10/10 [00:05<00:00,  1.77it/s]\u001b[A\n",
      "\n",
      "  0%|          | 0/10 [00:00<?, ?it/s]\u001b[A\n",
      " 10%|█         | 1/10 [00:00<00:04,  2.05it/s]\u001b[A\n",
      " 20%|██        | 2/10 [00:00<00:03,  2.05it/s]\u001b[A\n",
      " 30%|███       | 3/10 [00:01<00:03,  2.08it/s]\u001b[A\n",
      " 40%|████      | 4/10 [00:01<00:02,  2.08it/s]\u001b[A\n",
      " 50%|█████     | 5/10 [00:02<00:02,  2.07it/s]\u001b[A\n",
      " 60%|██████    | 6/10 [00:02<00:01,  2.07it/s]\u001b[A\n",
      " 70%|███████   | 7/10 [00:03<00:01,  2.08it/s]\u001b[A\n",
      " 80%|████████  | 8/10 [00:03<00:00,  2.07it/s]\u001b[A\n",
      " 90%|█████████ | 9/10 [00:04<00:00,  2.08it/s]\u001b[A\n",
      "100%|██████████| 10/10 [00:04<00:00,  2.08it/s]\u001b[A\n",
      "2022-01-10 16:29:04.996 | INFO     | __main__:<module>:6 - eps=0.05, gamma=0.98: avg reward = -0.164225\n",
      "mcc_on_poicy:  25%|██▌       | 2/8 [00:21<01:03, 10.59s/it]\n",
      "  0%|          | 0/10 [00:00<?, ?it/s]\u001b[A\n",
      " 10%|█         | 1/10 [00:00<00:05,  1.77it/s]\u001b[A\n",
      " 20%|██        | 2/10 [00:01<00:04,  1.79it/s]\u001b[A\n",
      " 30%|███       | 3/10 [00:01<00:03,  1.80it/s]\u001b[A\n",
      " 40%|████      | 4/10 [00:02<00:03,  1.78it/s]\u001b[A\n",
      " 50%|█████     | 5/10 [00:02<00:02,  1.76it/s]\u001b[A\n",
      " 60%|██████    | 6/10 [00:03<00:02,  1.76it/s]\u001b[A\n",
      " 70%|███████   | 7/10 [00:03<00:01,  1.77it/s]\u001b[A\n",
      " 80%|████████  | 8/10 [00:04<00:01,  1.77it/s]\u001b[A\n",
      " 90%|█████████ | 9/10 [00:05<00:00,  1.78it/s]\u001b[A\n",
      "100%|██████████| 10/10 [00:05<00:00,  1.78it/s]\u001b[A\n",
      "\n",
      "  0%|          | 0/10 [00:00<?, ?it/s]\u001b[A\n",
      " 10%|█         | 1/10 [00:00<00:04,  1.99it/s]\u001b[A\n",
      " 20%|██        | 2/10 [00:01<00:04,  1.99it/s]\u001b[A\n",
      " 30%|███       | 3/10 [00:01<00:03,  2.04it/s]\u001b[A\n",
      " 40%|████      | 4/10 [00:01<00:02,  2.07it/s]\u001b[A\n",
      " 50%|█████     | 5/10 [00:02<00:02,  2.03it/s]\u001b[A\n",
      " 60%|██████    | 6/10 [00:02<00:01,  2.06it/s]\u001b[A\n",
      " 70%|███████   | 7/10 [00:03<00:01,  2.07it/s]\u001b[A\n",
      " 80%|████████  | 8/10 [00:03<00:00,  2.07it/s]\u001b[A\n",
      " 90%|█████████ | 9/10 [00:04<00:00,  2.08it/s]\u001b[A\n",
      "100%|██████████| 10/10 [00:04<00:00,  2.04it/s]\u001b[A\n",
      "2022-01-10 16:29:15.547 | INFO     | __main__:<module>:6 - eps=0.05, gamma=0.96: avg reward = -0.168925\n",
      "mcc_on_poicy:  38%|███▊      | 3/8 [00:31<00:52, 10.57s/it]\n",
      "  0%|          | 0/10 [00:00<?, ?it/s]\u001b[A\n",
      " 10%|█         | 1/10 [00:00<00:05,  1.64it/s]\u001b[A\n",
      " 20%|██        | 2/10 [00:01<00:04,  1.71it/s]\u001b[A\n",
      " 30%|███       | 3/10 [00:01<00:04,  1.64it/s]\u001b[A\n",
      " 40%|████      | 4/10 [00:02<00:03,  1.62it/s]\u001b[A\n",
      " 50%|█████     | 5/10 [00:03<00:03,  1.64it/s]\u001b[A\n",
      " 60%|██████    | 6/10 [00:03<00:02,  1.52it/s]\u001b[A\n",
      " 70%|███████   | 7/10 [00:04<00:01,  1.55it/s]\u001b[A\n",
      " 80%|████████  | 8/10 [00:05<00:01,  1.50it/s]\u001b[A\n",
      " 90%|█████████ | 9/10 [00:05<00:00,  1.54it/s]\u001b[A\n",
      "100%|██████████| 10/10 [00:06<00:00,  1.55it/s]\u001b[A\n",
      "\n",
      "  0%|          | 0/10 [00:00<?, ?it/s]\u001b[A\n",
      " 10%|█         | 1/10 [00:00<00:05,  1.76it/s]\u001b[A\n",
      " 20%|██        | 2/10 [00:01<00:04,  1.94it/s]\u001b[A\n",
      " 30%|███       | 3/10 [00:01<00:03,  1.98it/s]\u001b[A\n",
      " 40%|████      | 4/10 [00:02<00:02,  2.01it/s]\u001b[A\n",
      " 50%|█████     | 5/10 [00:02<00:02,  2.03it/s]\u001b[A\n",
      " 60%|██████    | 6/10 [00:02<00:01,  2.04it/s]\u001b[A\n",
      " 70%|███████   | 7/10 [00:03<00:01,  2.05it/s]\u001b[A\n",
      " 80%|████████  | 8/10 [00:03<00:00,  2.05it/s]\u001b[A\n",
      " 90%|█████████ | 9/10 [00:04<00:00,  2.06it/s]\u001b[A\n",
      "100%|██████████| 10/10 [00:04<00:00,  2.02it/s]\u001b[A\n",
      "2022-01-10 16:29:26.955 | INFO     | __main__:<module>:6 - eps=0.05, gamma=0.94: avg reward = -0.16198\n",
      "mcc_on_poicy:  50%|█████     | 4/8 [00:43<00:43, 10.90s/it]\n",
      "  0%|          | 0/10 [00:00<?, ?it/s]\u001b[A\n",
      " 10%|█         | 1/10 [00:00<00:05,  1.68it/s]\u001b[A\n",
      " 20%|██        | 2/10 [00:01<00:05,  1.55it/s]\u001b[A\n",
      " 30%|███       | 3/10 [00:01<00:04,  1.50it/s]\u001b[A\n",
      " 40%|████      | 4/10 [00:02<00:03,  1.52it/s]\u001b[A\n",
      " 50%|█████     | 5/10 [00:03<00:03,  1.50it/s]\u001b[A\n",
      " 60%|██████    | 6/10 [00:03<00:02,  1.48it/s]\u001b[A\n",
      " 70%|███████   | 7/10 [00:04<00:02,  1.46it/s]\u001b[A\n",
      " 80%|████████  | 8/10 [00:05<00:01,  1.49it/s]\u001b[A\n",
      " 90%|█████████ | 9/10 [00:06<00:00,  1.48it/s]\u001b[A\n",
      "100%|██████████| 10/10 [00:06<00:00,  1.50it/s]\u001b[A\n",
      "\n",
      "  0%|          | 0/10 [00:00<?, ?it/s]\u001b[A\n",
      " 10%|█         | 1/10 [00:00<00:04,  1.98it/s]\u001b[A\n",
      " 20%|██        | 2/10 [00:01<00:04,  2.00it/s]\u001b[A\n",
      " 30%|███       | 3/10 [00:01<00:03,  2.00it/s]\u001b[A\n",
      " 40%|████      | 4/10 [00:01<00:02,  2.01it/s]\u001b[A\n",
      " 50%|█████     | 5/10 [00:02<00:02,  2.01it/s]\u001b[A\n",
      " 60%|██████    | 6/10 [00:03<00:02,  1.94it/s]\u001b[A\n",
      " 70%|███████   | 7/10 [00:03<00:01,  1.95it/s]\u001b[A\n",
      " 80%|████████  | 8/10 [00:04<00:01,  1.87it/s]\u001b[A\n",
      " 90%|█████████ | 9/10 [00:04<00:00,  1.76it/s]\u001b[A\n",
      "100%|██████████| 10/10 [00:05<00:00,  1.87it/s]\u001b[A\n",
      "2022-01-10 16:29:38.989 | INFO     | __main__:<module>:6 - eps=0.05, gamma=0.92: avg reward = -0.16008\n",
      "mcc_on_poicy:  62%|██████▎   | 5/8 [00:55<00:33, 11.31s/it]\n",
      "  0%|          | 0/10 [00:00<?, ?it/s]\u001b[A\n",
      " 10%|█         | 1/10 [00:00<00:06,  1.41it/s]\u001b[A\n",
      " 20%|██        | 2/10 [00:01<00:05,  1.50it/s]\u001b[A\n",
      " 30%|███       | 3/10 [00:02<00:04,  1.51it/s]\u001b[A\n",
      " 40%|████      | 4/10 [00:02<00:03,  1.53it/s]\u001b[A\n",
      " 50%|█████     | 5/10 [00:03<00:03,  1.60it/s]\u001b[A\n",
      " 60%|██████    | 6/10 [00:03<00:02,  1.54it/s]\u001b[A\n",
      " 70%|███████   | 7/10 [00:04<00:02,  1.50it/s]\u001b[A\n",
      " 80%|████████  | 8/10 [00:05<00:01,  1.50it/s]\u001b[A\n",
      " 90%|█████████ | 9/10 [00:05<00:00,  1.50it/s]\u001b[A\n",
      "100%|██████████| 10/10 [00:06<00:00,  1.52it/s]\u001b[A\n",
      "\n",
      "  0%|          | 0/10 [00:00<?, ?it/s]\u001b[A\n",
      " 10%|█         | 1/10 [00:00<00:04,  1.84it/s]\u001b[A\n",
      " 20%|██        | 2/10 [00:01<00:04,  1.89it/s]\u001b[A\n",
      " 30%|███       | 3/10 [00:01<00:03,  1.93it/s]\u001b[A\n",
      " 40%|████      | 4/10 [00:02<00:03,  1.95it/s]\u001b[A\n",
      " 50%|█████     | 5/10 [00:02<00:02,  1.90it/s]\u001b[A\n",
      " 60%|██████    | 6/10 [00:03<00:02,  1.94it/s]\u001b[A\n",
      " 70%|███████   | 7/10 [00:03<00:01,  1.97it/s]\u001b[A\n",
      " 80%|████████  | 8/10 [00:04<00:01,  1.96it/s]\u001b[A\n",
      " 90%|█████████ | 9/10 [00:04<00:00,  1.97it/s]\u001b[A\n",
      "100%|██████████| 10/10 [00:05<00:00,  1.95it/s]\u001b[A\n",
      "2022-01-10 16:29:50.701 | INFO     | __main__:<module>:6 - eps=0.05, gamma=0.9: avg reward = -0.16399\n",
      "mcc_on_poicy:  75%|███████▌  | 6/8 [01:06<00:22, 11.45s/it]\n",
      "  0%|          | 0/10 [00:00<?, ?it/s]\u001b[A\n",
      " 10%|█         | 1/10 [00:00<00:05,  1.66it/s]\u001b[A\n",
      " 20%|██        | 2/10 [00:01<00:04,  1.69it/s]\u001b[A\n",
      " 30%|███       | 3/10 [00:01<00:04,  1.69it/s]\u001b[A\n",
      " 40%|████      | 4/10 [00:02<00:03,  1.68it/s]\u001b[A\n",
      " 50%|█████     | 5/10 [00:02<00:02,  1.69it/s]\u001b[A\n",
      " 60%|██████    | 6/10 [00:03<00:02,  1.72it/s]\u001b[A\n",
      " 70%|███████   | 7/10 [00:04<00:01,  1.72it/s]\u001b[A\n",
      " 80%|████████  | 8/10 [00:04<00:01,  1.72it/s]\u001b[A\n",
      " 90%|█████████ | 9/10 [00:05<00:00,  1.66it/s]\u001b[A\n",
      "100%|██████████| 10/10 [00:05<00:00,  1.68it/s]\u001b[A\n",
      "\n",
      "  0%|          | 0/10 [00:00<?, ?it/s]\u001b[A\n",
      " 10%|█         | 1/10 [00:00<00:04,  1.97it/s]\u001b[A\n"
     ]
    },
    {
     "name": "stderr",
     "output_type": "stream",
     "text": [
      " 20%|██        | 2/10 [00:01<00:04,  1.99it/s]\u001b[A\n",
      " 30%|███       | 3/10 [00:01<00:03,  1.80it/s]\u001b[A\n",
      " 40%|████      | 4/10 [00:02<00:03,  1.75it/s]\u001b[A\n",
      " 50%|█████     | 5/10 [00:02<00:02,  1.77it/s]\u001b[A\n",
      " 60%|██████    | 6/10 [00:03<00:02,  1.83it/s]\u001b[A\n",
      " 70%|███████   | 7/10 [00:03<00:01,  1.72it/s]\u001b[A\n",
      " 80%|████████  | 8/10 [00:04<00:01,  1.79it/s]\u001b[A\n",
      " 90%|█████████ | 9/10 [00:05<00:00,  1.74it/s]\u001b[A\n",
      "100%|██████████| 10/10 [00:05<00:00,  1.79it/s]\u001b[A\n",
      "2022-01-10 16:30:02.241 | INFO     | __main__:<module>:6 - eps=0.05, gamma=0.85: avg reward = -0.16529\n",
      "mcc_on_poicy:  88%|████████▊ | 7/8 [01:18<00:11, 11.48s/it]\n",
      "  0%|          | 0/10 [00:00<?, ?it/s]\u001b[A\n",
      " 10%|█         | 1/10 [00:00<00:05,  1.68it/s]\u001b[A\n",
      " 20%|██        | 2/10 [00:01<00:04,  1.71it/s]\u001b[A\n",
      " 30%|███       | 3/10 [00:01<00:04,  1.71it/s]\u001b[A\n",
      " 40%|████      | 4/10 [00:02<00:03,  1.73it/s]\u001b[A\n",
      " 50%|█████     | 5/10 [00:02<00:02,  1.74it/s]\u001b[A\n",
      " 60%|██████    | 6/10 [00:03<00:02,  1.75it/s]\u001b[A\n",
      " 70%|███████   | 7/10 [00:04<00:01,  1.75it/s]\u001b[A\n",
      " 80%|████████  | 8/10 [00:04<00:01,  1.75it/s]\u001b[A\n",
      " 90%|█████████ | 9/10 [00:05<00:00,  1.75it/s]\u001b[A\n",
      "100%|██████████| 10/10 [00:05<00:00,  1.74it/s]\u001b[A\n",
      "\n",
      "  0%|          | 0/10 [00:00<?, ?it/s]\u001b[A\n",
      " 10%|█         | 1/10 [00:00<00:04,  2.01it/s]\u001b[A\n",
      " 20%|██        | 2/10 [00:00<00:03,  2.05it/s]\u001b[A\n",
      " 30%|███       | 3/10 [00:01<00:03,  2.06it/s]\u001b[A\n",
      " 40%|████      | 4/10 [00:01<00:02,  2.04it/s]\u001b[A\n",
      " 50%|█████     | 5/10 [00:02<00:02,  2.06it/s]\u001b[A\n",
      " 60%|██████    | 6/10 [00:02<00:01,  2.05it/s]\u001b[A\n",
      " 70%|███████   | 7/10 [00:03<00:01,  2.05it/s]\u001b[A\n",
      " 80%|████████  | 8/10 [00:03<00:00,  2.05it/s]\u001b[A\n",
      " 90%|█████████ | 9/10 [00:04<00:00,  2.05it/s]\u001b[A\n",
      "100%|██████████| 10/10 [00:04<00:00,  2.05it/s]\u001b[A\n",
      "2022-01-10 16:30:12.873 | INFO     | __main__:<module>:6 - eps=0.05, gamma=0.8: avg reward = -0.16306\n",
      "mcc_on_poicy: 100%|██████████| 8/8 [01:29<00:00, 11.14s/it]\n"
     ]
    }
   ],
   "source": [
    "for eps, gamma in tqdm(product(eps_, gamma_), total=len(eps_)*len(gamma_), desc=\"mcc_on_poicy\"):\n",
    "    random.seed(100)\n",
    "    env = gym.make('Blackjack-v0', natural=True)\n",
    "    Q, actor = mcc_on_policy(env, n_episodes=100_000, eps=eps, gamma=gamma)\n",
    "    cum_avg_reward = mc_eval(actor, n_episodes=100_000)\n",
    "    logger.info(f\"eps={eps}, gamma={gamma}: avg reward = {cum_avg_reward[-1]}\")"
   ]
  },
  {
   "cell_type": "code",
   "execution_count": 23,
   "id": "68ec34ef",
   "metadata": {
    "ExecuteTime": {
     "end_time": "2022-01-10T13:10:52.680540Z",
     "start_time": "2022-01-10T13:10:52.677121Z"
    }
   },
   "outputs": [],
   "source": [
    "eps_ = [0.0, 0.05, 0.1, 0.15, 0.2, 0.25, 0.3, 0.35, 0.4]\n",
    "gamma_ = [0.92]"
   ]
  },
  {
   "cell_type": "code",
   "execution_count": 24,
   "id": "91c8857c",
   "metadata": {
    "ExecuteTime": {
     "end_time": "2022-01-10T13:14:08.830342Z",
     "start_time": "2022-01-10T13:10:53.735336Z"
    }
   },
   "outputs": [
    {
     "name": "stderr",
     "output_type": "stream",
     "text": [
      "mcc_on_poicy:   0%|          | 0/9 [00:00<?, ?it/s]\n",
      "  0%|          | 0/10 [00:00<?, ?it/s]\u001b[A\n",
      " 10%|█         | 1/10 [00:00<00:05,  1.63it/s]\u001b[A\n",
      " 20%|██        | 2/10 [00:01<00:04,  1.70it/s]\u001b[A\n",
      " 30%|███       | 3/10 [00:01<00:04,  1.73it/s]\u001b[A\n",
      " 40%|████      | 4/10 [00:02<00:03,  1.75it/s]\u001b[A\n",
      " 50%|█████     | 5/10 [00:02<00:02,  1.76it/s]\u001b[A\n",
      " 60%|██████    | 6/10 [00:03<00:02,  1.76it/s]\u001b[A\n",
      " 70%|███████   | 7/10 [00:04<00:01,  1.76it/s]\u001b[A\n",
      " 80%|████████  | 8/10 [00:04<00:01,  1.73it/s]\u001b[A\n",
      " 90%|█████████ | 9/10 [00:05<00:00,  1.70it/s]\u001b[A\n",
      "100%|██████████| 10/10 [00:05<00:00,  1.71it/s]\u001b[A\n",
      "\n",
      "  0%|          | 0/10 [00:00<?, ?it/s]\u001b[A\n",
      " 10%|█         | 1/10 [00:00<00:04,  1.94it/s]\u001b[A\n",
      " 20%|██        | 2/10 [00:01<00:04,  2.00it/s]\u001b[A\n",
      " 30%|███       | 3/10 [00:01<00:03,  2.01it/s]\u001b[A\n",
      " 40%|████      | 4/10 [00:01<00:02,  2.03it/s]\u001b[A\n",
      " 50%|█████     | 5/10 [00:02<00:02,  1.98it/s]\u001b[A\n",
      " 60%|██████    | 6/10 [00:03<00:02,  1.98it/s]\u001b[A\n",
      " 70%|███████   | 7/10 [00:03<00:01,  1.98it/s]\u001b[A\n",
      " 80%|████████  | 8/10 [00:04<00:01,  1.92it/s]\u001b[A\n",
      " 90%|█████████ | 9/10 [00:04<00:00,  1.90it/s]\u001b[A\n",
      "100%|██████████| 10/10 [00:05<00:00,  1.94it/s]\u001b[A\n",
      "2022-01-10 16:31:35.531 | INFO     | __main__:<module>:6 - eps=0.0, gamma=0.92: avg reward = -0.162495\n",
      "mcc_on_poicy:  11%|█         | 1/9 [00:11<01:28, 11.01s/it]\n",
      "  0%|          | 0/10 [00:00<?, ?it/s]\u001b[A\n",
      " 10%|█         | 1/10 [00:00<00:05,  1.70it/s]\u001b[A\n",
      " 20%|██        | 2/10 [00:01<00:04,  1.74it/s]\u001b[A\n",
      " 30%|███       | 3/10 [00:01<00:03,  1.75it/s]\u001b[A\n",
      " 40%|████      | 4/10 [00:02<00:03,  1.76it/s]\u001b[A\n",
      " 50%|█████     | 5/10 [00:02<00:02,  1.76it/s]\u001b[A\n",
      " 60%|██████    | 6/10 [00:03<00:02,  1.71it/s]\u001b[A\n",
      " 70%|███████   | 7/10 [00:04<00:01,  1.62it/s]\u001b[A\n",
      " 80%|████████  | 8/10 [00:04<00:01,  1.51it/s]\u001b[A\n",
      " 90%|█████████ | 9/10 [00:05<00:00,  1.54it/s]\u001b[A\n",
      "100%|██████████| 10/10 [00:06<00:00,  1.60it/s]\u001b[A\n",
      "\n",
      "  0%|          | 0/10 [00:00<?, ?it/s]\u001b[A\n",
      " 10%|█         | 1/10 [00:00<00:04,  1.87it/s]\u001b[A\n",
      " 20%|██        | 2/10 [00:01<00:04,  1.73it/s]\u001b[A\n",
      " 30%|███       | 3/10 [00:01<00:03,  1.78it/s]\u001b[A\n",
      " 40%|████      | 4/10 [00:02<00:03,  1.69it/s]\u001b[A\n",
      " 50%|█████     | 5/10 [00:02<00:02,  1.69it/s]\u001b[A\n",
      " 60%|██████    | 6/10 [00:03<00:02,  1.79it/s]\u001b[A\n",
      " 70%|███████   | 7/10 [00:04<00:01,  1.74it/s]\u001b[A\n",
      " 80%|████████  | 8/10 [00:04<00:01,  1.77it/s]\u001b[A\n",
      " 90%|█████████ | 9/10 [00:05<00:00,  1.77it/s]\u001b[A\n",
      "100%|██████████| 10/10 [00:05<00:00,  1.75it/s]\u001b[A\n",
      "2022-01-10 16:31:47.519 | INFO     | __main__:<module>:6 - eps=0.05, gamma=0.92: avg reward = -0.165055\n",
      "mcc_on_poicy:  22%|██▏       | 2/9 [00:22<01:21, 11.58s/it]\n",
      "  0%|          | 0/10 [00:00<?, ?it/s]\u001b[A\n",
      " 10%|█         | 1/10 [00:00<00:06,  1.45it/s]\u001b[A\n",
      " 20%|██        | 2/10 [00:01<00:05,  1.45it/s]\u001b[A\n",
      " 30%|███       | 3/10 [00:02<00:04,  1.50it/s]\u001b[A\n",
      " 40%|████      | 4/10 [00:02<00:03,  1.57it/s]\u001b[A\n",
      " 50%|█████     | 5/10 [00:03<00:03,  1.62it/s]\u001b[A\n",
      " 60%|██████    | 6/10 [00:03<00:02,  1.57it/s]\u001b[A\n",
      " 70%|███████   | 7/10 [00:04<00:01,  1.54it/s]\u001b[A\n",
      " 80%|████████  | 8/10 [00:05<00:01,  1.56it/s]\u001b[A\n",
      " 90%|█████████ | 9/10 [00:05<00:00,  1.57it/s]\u001b[A\n",
      "100%|██████████| 10/10 [00:06<00:00,  1.57it/s]\u001b[A\n",
      "\n",
      "  0%|          | 0/10 [00:00<?, ?it/s]\u001b[A\n",
      " 10%|█         | 1/10 [00:00<00:05,  1.67it/s]\u001b[A\n",
      " 20%|██        | 2/10 [00:01<00:04,  1.75it/s]\u001b[A\n",
      " 30%|███       | 3/10 [00:01<00:04,  1.71it/s]\u001b[A\n",
      " 40%|████      | 4/10 [00:02<00:03,  1.76it/s]\u001b[A\n",
      " 50%|█████     | 5/10 [00:02<00:02,  1.82it/s]\u001b[A\n",
      " 60%|██████    | 6/10 [00:03<00:02,  1.90it/s]\u001b[A\n",
      " 70%|███████   | 7/10 [00:03<00:01,  1.87it/s]\u001b[A\n",
      " 80%|████████  | 8/10 [00:04<00:01,  1.90it/s]\u001b[A\n",
      " 90%|█████████ | 9/10 [00:04<00:00,  1.89it/s]\u001b[A\n",
      "100%|██████████| 10/10 [00:05<00:00,  1.85it/s]\u001b[A\n",
      "2022-01-10 16:31:59.321 | INFO     | __main__:<module>:6 - eps=0.1, gamma=0.92: avg reward = -0.16186\n",
      "mcc_on_poicy:  33%|███▎      | 3/9 [00:34<01:10, 11.68s/it]\n",
      "  0%|          | 0/10 [00:00<?, ?it/s]\u001b[A\n",
      " 10%|█         | 1/10 [00:00<00:06,  1.43it/s]\u001b[A\n",
      " 20%|██        | 2/10 [00:01<00:05,  1.44it/s]\u001b[A\n",
      " 30%|███       | 3/10 [00:02<00:05,  1.39it/s]\u001b[A\n",
      " 40%|████      | 4/10 [00:02<00:04,  1.46it/s]\u001b[A\n",
      " 50%|█████     | 5/10 [00:03<00:03,  1.53it/s]\u001b[A\n",
      " 60%|██████    | 6/10 [00:03<00:02,  1.55it/s]\u001b[A\n",
      " 70%|███████   | 7/10 [00:04<00:01,  1.51it/s]\u001b[A\n",
      " 80%|████████  | 8/10 [00:05<00:01,  1.55it/s]\u001b[A\n",
      " 90%|█████████ | 9/10 [00:05<00:00,  1.58it/s]\u001b[A\n",
      "100%|██████████| 10/10 [00:06<00:00,  1.53it/s]\u001b[A\n",
      "\n",
      "  0%|          | 0/10 [00:00<?, ?it/s]\u001b[A\n",
      " 10%|█         | 1/10 [00:00<00:04,  1.96it/s]\u001b[A\n",
      " 20%|██        | 2/10 [00:01<00:04,  1.99it/s]\u001b[A\n",
      " 30%|███       | 3/10 [00:01<00:03,  2.01it/s]\u001b[A\n",
      " 40%|████      | 4/10 [00:02<00:02,  2.00it/s]\u001b[A\n",
      " 50%|█████     | 5/10 [00:02<00:02,  1.98it/s]\u001b[A\n",
      " 60%|██████    | 6/10 [00:03<00:02,  2.00it/s]\u001b[A\n",
      " 70%|███████   | 7/10 [00:03<00:01,  2.00it/s]\u001b[A\n",
      " 80%|████████  | 8/10 [00:04<00:01,  1.84it/s]\u001b[A\n",
      " 90%|█████████ | 9/10 [00:04<00:00,  1.73it/s]\u001b[A\n",
      "100%|██████████| 10/10 [00:05<00:00,  1.83it/s]\u001b[A\n",
      "2022-01-10 16:32:11.326 | INFO     | __main__:<module>:6 - eps=0.15, gamma=0.92: avg reward = -0.162025\n",
      "mcc_on_poicy:  44%|████▍     | 4/9 [00:46<00:59, 11.81s/it]\n",
      "  0%|          | 0/10 [00:00<?, ?it/s]\u001b[A\n",
      " 10%|█         | 1/10 [00:00<00:07,  1.29it/s]\u001b[A\n",
      " 20%|██        | 2/10 [00:01<00:05,  1.40it/s]\u001b[A\n",
      " 30%|███       | 3/10 [00:02<00:04,  1.41it/s]\u001b[A\n",
      " 40%|████      | 4/10 [00:02<00:04,  1.47it/s]\u001b[A\n",
      " 50%|█████     | 5/10 [00:03<00:03,  1.55it/s]\u001b[A\n",
      " 60%|██████    | 6/10 [00:03<00:02,  1.61it/s]\u001b[A\n",
      " 70%|███████   | 7/10 [00:04<00:01,  1.55it/s]\u001b[A\n",
      " 80%|████████  | 8/10 [00:05<00:01,  1.55it/s]\u001b[A\n",
      " 90%|█████████ | 9/10 [00:05<00:00,  1.59it/s]\u001b[A\n",
      "100%|██████████| 10/10 [00:06<00:00,  1.54it/s]\u001b[A\n",
      "\n",
      "  0%|          | 0/10 [00:00<?, ?it/s]\u001b[A\n",
      " 10%|█         | 1/10 [00:00<00:05,  1.78it/s]\u001b[A\n",
      " 20%|██        | 2/10 [00:01<00:04,  1.66it/s]\u001b[A\n",
      " 30%|███       | 3/10 [00:01<00:03,  1.76it/s]\u001b[A\n",
      " 40%|████      | 4/10 [00:02<00:03,  1.76it/s]\u001b[A\n",
      " 50%|█████     | 5/10 [00:02<00:02,  1.72it/s]\u001b[A\n",
      " 60%|██████    | 6/10 [00:03<00:02,  1.78it/s]\u001b[A\n",
      " 70%|███████   | 7/10 [00:03<00:01,  1.79it/s]\u001b[A\n",
      " 80%|████████  | 8/10 [00:04<00:01,  1.77it/s]\u001b[A\n",
      " 90%|█████████ | 9/10 [00:05<00:00,  1.77it/s]\u001b[A\n",
      "100%|██████████| 10/10 [00:05<00:00,  1.75it/s]\u001b[A\n",
      "2022-01-10 16:32:23.546 | INFO     | __main__:<module>:6 - eps=0.2, gamma=0.92: avg reward = -0.16533\n",
      "mcc_on_poicy:  56%|█████▌    | 5/9 [00:59<00:47, 11.96s/it]\n",
      "  0%|          | 0/10 [00:00<?, ?it/s]\u001b[A\n",
      " 10%|█         | 1/10 [00:00<00:06,  1.39it/s]\u001b[A\n",
      " 20%|██        | 2/10 [00:01<00:05,  1.39it/s]\u001b[A\n",
      " 30%|███       | 3/10 [00:02<00:05,  1.39it/s]\u001b[A\n",
      " 40%|████      | 4/10 [00:02<00:04,  1.44it/s]\u001b[A\n",
      " 50%|█████     | 5/10 [00:03<00:03,  1.42it/s]\u001b[A\n",
      " 60%|██████    | 6/10 [00:04<00:02,  1.50it/s]\u001b[A\n",
      " 70%|███████   | 7/10 [00:04<00:02,  1.42it/s]\u001b[A\n",
      " 80%|████████  | 8/10 [00:05<00:01,  1.45it/s]\u001b[A\n",
      " 90%|█████████ | 9/10 [00:06<00:00,  1.45it/s]\u001b[A\n",
      "100%|██████████| 10/10 [00:06<00:00,  1.43it/s]\u001b[A\n",
      "\n",
      "  0%|          | 0/10 [00:00<?, ?it/s]\u001b[A\n",
      " 10%|█         | 1/10 [00:00<00:05,  1.75it/s]\u001b[A\n",
      " 20%|██        | 2/10 [00:01<00:04,  1.64it/s]\u001b[A\n",
      " 30%|███       | 3/10 [00:01<00:04,  1.64it/s]\u001b[A\n",
      " 40%|████      | 4/10 [00:02<00:03,  1.64it/s]\u001b[A\n",
      " 50%|█████     | 5/10 [00:02<00:02,  1.74it/s]\u001b[A\n",
      " 60%|██████    | 6/10 [00:03<00:02,  1.82it/s]\u001b[A\n",
      " 70%|███████   | 7/10 [00:03<00:01,  1.89it/s]\u001b[A\n",
      " 80%|████████  | 8/10 [00:04<00:01,  1.80it/s]\u001b[A\n",
      " 90%|█████████ | 9/10 [00:05<00:00,  1.72it/s]\u001b[A\n",
      "100%|██████████| 10/10 [00:05<00:00,  1.74it/s]\u001b[A\n",
      "2022-01-10 16:32:36.273 | INFO     | __main__:<module>:6 - eps=0.25, gamma=0.92: avg reward = -0.16258\n",
      "mcc_on_poicy:  67%|██████▋   | 6/9 [01:11<00:36, 12.22s/it]\n",
      "  0%|          | 0/10 [00:00<?, ?it/s]\u001b[A\n",
      " 10%|█         | 1/10 [00:00<00:06,  1.31it/s]\u001b[A\n",
      " 20%|██        | 2/10 [00:01<00:05,  1.36it/s]\u001b[A\n",
      " 30%|███       | 3/10 [00:02<00:04,  1.46it/s]\u001b[A\n",
      " 40%|████      | 4/10 [00:02<00:04,  1.48it/s]\u001b[A\n",
      " 50%|█████     | 5/10 [00:03<00:03,  1.53it/s]\u001b[A\n",
      " 60%|██████    | 6/10 [00:04<00:02,  1.45it/s]\u001b[A\n",
      " 70%|███████   | 7/10 [00:04<00:01,  1.50it/s]\u001b[A\n",
      " 80%|████████  | 8/10 [00:05<00:01,  1.52it/s]\u001b[A\n",
      " 90%|█████████ | 9/10 [00:05<00:00,  1.57it/s]\u001b[A\n",
      "100%|██████████| 10/10 [00:06<00:00,  1.52it/s]\u001b[A\n",
      "\n",
      "  0%|          | 0/10 [00:00<?, ?it/s]\u001b[A\n",
      " 10%|█         | 1/10 [00:00<00:04,  2.03it/s]\u001b[A\n"
     ]
    },
    {
     "name": "stderr",
     "output_type": "stream",
     "text": [
      " 20%|██        | 2/10 [00:00<00:03,  2.03it/s]\u001b[A\n",
      " 30%|███       | 3/10 [00:01<00:03,  2.05it/s]\u001b[A\n",
      " 40%|████      | 4/10 [00:01<00:02,  2.03it/s]\u001b[A\n",
      " 50%|█████     | 5/10 [00:02<00:02,  2.05it/s]\u001b[A\n",
      " 60%|██████    | 6/10 [00:02<00:01,  2.03it/s]\u001b[A\n",
      " 70%|███████   | 7/10 [00:03<00:01,  2.03it/s]\u001b[A\n",
      " 80%|████████  | 8/10 [00:03<00:00,  2.02it/s]\u001b[A\n",
      " 90%|█████████ | 9/10 [00:04<00:00,  2.03it/s]\u001b[A\n",
      "100%|██████████| 10/10 [00:04<00:00,  2.03it/s]\u001b[A\n",
      "2022-01-10 16:32:47.779 | INFO     | __main__:<module>:6 - eps=0.3, gamma=0.92: avg reward = -0.16888\n",
      "mcc_on_poicy:  78%|███████▊  | 7/9 [01:23<00:23, 11.99s/it]\n",
      "  0%|          | 0/10 [00:00<?, ?it/s]\u001b[A\n",
      " 10%|█         | 1/10 [00:00<00:05,  1.59it/s]\u001b[A\n",
      " 20%|██        | 2/10 [00:01<00:05,  1.56it/s]\u001b[A\n",
      " 30%|███       | 3/10 [00:01<00:04,  1.55it/s]\u001b[A\n",
      " 40%|████      | 4/10 [00:02<00:03,  1.55it/s]\u001b[A\n",
      " 50%|█████     | 5/10 [00:03<00:03,  1.56it/s]\u001b[A\n",
      " 60%|██████    | 6/10 [00:03<00:02,  1.57it/s]\u001b[A\n",
      " 70%|███████   | 7/10 [00:04<00:01,  1.56it/s]\u001b[A\n",
      " 80%|████████  | 8/10 [00:05<00:01,  1.54it/s]\u001b[A\n",
      " 90%|█████████ | 9/10 [00:05<00:00,  1.54it/s]\u001b[A\n",
      "100%|██████████| 10/10 [00:06<00:00,  1.55it/s]\u001b[A\n",
      "\n",
      "  0%|          | 0/10 [00:00<?, ?it/s]\u001b[A\n",
      " 10%|█         | 1/10 [00:00<00:04,  1.83it/s]\u001b[A\n",
      " 20%|██        | 2/10 [00:01<00:04,  1.80it/s]\u001b[A\n",
      " 30%|███       | 3/10 [00:01<00:03,  1.81it/s]\u001b[A\n",
      " 40%|████      | 4/10 [00:02<00:03,  1.82it/s]\u001b[A\n",
      " 50%|█████     | 5/10 [00:02<00:02,  1.83it/s]\u001b[A\n",
      " 60%|██████    | 6/10 [00:03<00:02,  1.73it/s]\u001b[A\n",
      " 70%|███████   | 7/10 [00:03<00:01,  1.78it/s]\u001b[A\n",
      " 80%|████████  | 8/10 [00:04<00:01,  1.82it/s]\u001b[A\n",
      " 90%|█████████ | 9/10 [00:05<00:00,  1.79it/s]\u001b[A\n",
      "100%|██████████| 10/10 [00:05<00:00,  1.79it/s]\u001b[A\n",
      "2022-01-10 16:32:59.801 | INFO     | __main__:<module>:6 - eps=0.35, gamma=0.92: avg reward = -0.16795\n",
      "mcc_on_poicy:  89%|████████▉ | 8/9 [01:35<00:11, 12.00s/it]\n",
      "  0%|          | 0/10 [00:00<?, ?it/s]\u001b[A\n",
      " 10%|█         | 1/10 [00:00<00:05,  1.65it/s]\u001b[A\n",
      " 20%|██        | 2/10 [00:01<00:05,  1.43it/s]\u001b[A\n",
      " 30%|███       | 3/10 [00:02<00:04,  1.44it/s]\u001b[A\n",
      " 40%|████      | 4/10 [00:02<00:04,  1.46it/s]\u001b[A\n",
      " 50%|█████     | 5/10 [00:03<00:03,  1.54it/s]\u001b[A\n",
      " 60%|██████    | 6/10 [00:03<00:02,  1.56it/s]\u001b[A\n",
      " 70%|███████   | 7/10 [00:04<00:01,  1.55it/s]\u001b[A\n",
      " 80%|████████  | 8/10 [00:05<00:01,  1.51it/s]\u001b[A\n",
      " 90%|█████████ | 9/10 [00:06<00:00,  1.47it/s]\u001b[A\n",
      "100%|██████████| 10/10 [00:06<00:00,  1.49it/s]\u001b[A\n",
      "\n",
      "  0%|          | 0/10 [00:00<?, ?it/s]\u001b[A\n",
      " 10%|█         | 1/10 [00:00<00:05,  1.55it/s]\u001b[A\n",
      " 20%|██        | 2/10 [00:01<00:04,  1.66it/s]\u001b[A\n",
      " 30%|███       | 3/10 [00:01<00:04,  1.73it/s]\u001b[A\n",
      " 40%|████      | 4/10 [00:02<00:03,  1.67it/s]\u001b[A\n",
      " 50%|█████     | 5/10 [00:02<00:02,  1.70it/s]\u001b[A\n",
      " 60%|██████    | 6/10 [00:03<00:02,  1.74it/s]\u001b[A\n",
      " 70%|███████   | 7/10 [00:04<00:01,  1.76it/s]\u001b[A\n",
      " 80%|████████  | 8/10 [00:04<00:01,  1.78it/s]\u001b[A\n",
      " 90%|█████████ | 9/10 [00:05<00:00,  1.83it/s]\u001b[A\n",
      "100%|██████████| 10/10 [00:05<00:00,  1.78it/s]\u001b[A\n",
      "2022-01-10 16:33:12.117 | INFO     | __main__:<module>:6 - eps=0.4, gamma=0.92: avg reward = -0.168265\n",
      "mcc_on_poicy: 100%|██████████| 9/9 [01:47<00:00, 11.95s/it]\n"
     ]
    }
   ],
   "source": [
    "for eps, gamma in tqdm(product(eps_, gamma_), total=len(eps_)*len(gamma_), desc=\"mcc_on_poicy\"):\n",
    "    random.seed(100)\n",
    "    env = gym.make('Blackjack-v0', natural=True)\n",
    "    Q, actor = mcc_on_policy(env, n_episodes=100_000, eps=eps, gamma=gamma)\n",
    "    cum_avg_reward = mc_eval(actor, n_episodes=100_000)\n",
    "    logger.info(f\"eps={eps}, gamma={gamma}: avg reward = {cum_avg_reward[-1]}\")"
   ]
  },
  {
   "cell_type": "code",
   "execution_count": null,
   "id": "0c425e5b",
   "metadata": {},
   "outputs": [],
   "source": []
  },
  {
   "cell_type": "code",
   "execution_count": null,
   "id": "eb49f56c",
   "metadata": {},
   "outputs": [],
   "source": []
  },
  {
   "cell_type": "markdown",
   "id": "aa3c6adf",
   "metadata": {
    "ExecuteTime": {
     "end_time": "2021-11-21T20:17:23.060265Z",
     "start_time": "2021-11-21T20:17:23.053717Z"
    }
   },
   "source": [
    "* Подбор гиперпараметров не дает существенного прироста (кажется, качество колеблется в пределах погрешности), тем не менее, оценим качество финальной стратегии"
   ]
  },
  {
   "cell_type": "code",
   "execution_count": 25,
   "id": "ff8f2a57",
   "metadata": {
    "ExecuteTime": {
     "end_time": "2022-01-10T13:15:15.877109Z",
     "start_time": "2022-01-10T13:14:42.536759Z"
    }
   },
   "outputs": [
    {
     "name": "stderr",
     "output_type": "stream",
     "text": [
      "100%|██████████| 30/30 [00:16<00:00,  1.84it/s]\n"
     ]
    }
   ],
   "source": [
    "Q, actor = mcc_on_policy(env, eps=0.1, gamma=0.92, n_episodes=300_000)"
   ]
  },
  {
   "cell_type": "code",
   "execution_count": 26,
   "id": "c74e223e",
   "metadata": {
    "ExecuteTime": {
     "end_time": "2022-01-10T13:15:44.430939Z",
     "start_time": "2022-01-10T13:15:15.879775Z"
    }
   },
   "outputs": [
    {
     "name": "stderr",
     "output_type": "stream",
     "text": [
      "100%|██████████| 30/30 [00:13<00:00,  2.18it/s]\n"
     ]
    },
    {
     "data": {
      "image/png": "[encoded data removed]",
      "text/plain": [
       "<Figure size 1440x720 with 1 Axes>"
      ]
     },
     "metadata": {},
     "output_type": "display_data"
    },
    {
     "name": "stderr",
     "output_type": "stream",
     "text": [
      "2022-01-10 16:34:03.259 | INFO     | __main__:draw_results:16 - Averaged reward = -0.165045\n"
     ]
    }
   ],
   "source": [
    "cum_avg_reward = mc_eval(actor, n_episodes=300_000)\n",
    "draw_results(cum_avg_reward)"
   ]
  },
  {
   "cell_type": "code",
   "execution_count": null,
   "id": "84797039",
   "metadata": {},
   "outputs": [],
   "source": []
  },
  {
   "cell_type": "code",
   "execution_count": null,
   "id": "0bff5cdf",
   "metadata": {},
   "outputs": [],
   "source": []
  }
 ],
 "metadata": {
  "kernelspec": {
   "display_name": "Python RL",
   "language": "python",
   "name": "python-rl"
  },
  "language_info": {
   "codemirror_mode": {
    "name": "ipython",
    "version": 3
   },
   "file_extension": ".py",
   "mimetype": "text/x-python",
   "name": "python",
   "nbconvert_exporter": "python",
   "pygments_lexer": "ipython3",
   "version": "3.6.8"
  },
  "toc": {
   "base_numbering": 1,
   "nav_menu": {},
   "number_sections": true,
   "sideBar": true,
   "skip_h1_title": false,
   "title_cell": "Table of Contents",
   "title_sidebar": "Contents",
   "toc_cell": false,
   "toc_position": {},
   "toc_section_display": true,
   "toc_window_display": false
  }
 },
 "nbformat": 4,
 "nbformat_minor": 5
}
