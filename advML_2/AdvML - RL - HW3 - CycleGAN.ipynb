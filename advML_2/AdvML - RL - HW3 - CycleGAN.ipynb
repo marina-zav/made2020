{
 "cells": [
  {
   "cell_type": "markdown",
   "id": "92386c63",
   "metadata": {},
   "source": [
    "# RL and Advanced DL: Домашнее задание 3"
   ]
  },
  {
   "cell_type": "markdown",
   "id": "064ad687",
   "metadata": {},
   "source": [
    "## Часть первая: перенос стиля при помощи pix2pix\n",
    "В этом задании мы будем реализовывать перенос стиля на спаренных данных (paired data). Из стандартных датасетов я выбрал самый маленький -- давайте реализуем перенос стиля из масок сегментации в “настоящие фотографии” для конкретного случая фасадов домов:"
   ]
  },
  {
   "cell_type": "code",
   "execution_count": 1,
   "id": "52ef18ff",
   "metadata": {},
   "outputs": [],
   "source": [
    "# Dataset http://efrosgans.eecs.berkeley.edu/pix2pix/datasets/facades.tar.gz"
   ]
  },
  {
   "cell_type": "code",
   "execution_count": null,
   "id": "bcb5b3bc",
   "metadata": {},
   "outputs": [],
   "source": []
  }
 ],
 "metadata": {
  "kernelspec": {
   "display_name": "Python 3 (ipykernel)",
   "language": "python",
   "name": "python3"
  },
  "language_info": {
   "codemirror_mode": {
    "name": "ipython",
    "version": 3
   },
   "file_extension": ".py",
   "mimetype": "text/x-python",
   "name": "python",
   "nbconvert_exporter": "python",
   "pygments_lexer": "ipython3",
   "version": "3.9.7"
  },
  "toc": {
   "base_numbering": 1,
   "nav_menu": {},
   "number_sections": true,
   "sideBar": true,
   "skip_h1_title": false,
   "title_cell": "Table of Contents",
   "title_sidebar": "Contents",
   "toc_cell": false,
   "toc_position": {},
   "toc_section_display": true,
   "toc_window_display": false
  }
 },
 "nbformat": 4,
 "nbformat_minor": 5
}
