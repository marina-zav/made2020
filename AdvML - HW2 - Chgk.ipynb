{
 "cells": [
  {
   "cell_type": "markdown",
   "metadata": {},
   "source": [
    "__Завгородняя Марина Игоревна Группа MADE-DS-22__ \n",
    "\n",
    "Второе домашнее задание по курсу \"Продвинутое машинное обучение\""
   ]
  },
  {
   "cell_type": "code",
   "execution_count": 83,
   "metadata": {},
   "outputs": [],
   "source": [
    "import pickle\n",
    "import pandas as pd\n",
    "import numpy as np\n",
    "import re\n",
    "from tqdm import tqdm\n",
    "\n",
    "from scipy.stats import spearmanr, kendalltau\n",
    "from scipy.special import logit, expit\n",
    "\n",
    "from sklearn.preprocessing import OneHotEncoder\n",
    "from sklearn.linear_model import LogisticRegression, LinearRegression"
   ]
  },
  {
   "cell_type": "markdown",
   "metadata": {},
   "source": [
    "## Read & filter data"
   ]
  },
  {
   "cell_type": "markdown",
   "metadata": {},
   "source": [
    "1) Прочитайте и проанализируйте данные, выберите турниры, в которых есть данные о составах команд и повопросных результатах (поле mask в results.pkl). Для унификации предлагаю:\n",
    "* взять в тренировочный набор турниры с dateStart из 2019 года; \n",
    "* в тестовый — турниры с dateStart из 2020 года."
   ]
  },
  {
   "cell_type": "code",
   "execution_count": 2,
   "metadata": {},
   "outputs": [],
   "source": [
    "with open(\"chgk/tournaments.pkl\", \"rb\") as f:\n",
    "    tournaments = pickle.load(f)\n",
    "with open(\"chgk/players.pkl\", \"rb\") as f:\n",
    "    players = pickle.load(f)\n",
    "with open(\"chgk/results.pkl\", \"rb\") as f:\n",
    "    results = pickle.load(f)"
   ]
  },
  {
   "cell_type": "code",
   "execution_count": 3,
   "metadata": {},
   "outputs": [],
   "source": [
    "with open(\"chgk/results.pkl\", \"rb\") as f:\n",
    "    results = pickle.load(f)"
   ]
  },
  {
   "cell_type": "code",
   "execution_count": 4,
   "metadata": {},
   "outputs": [
    {
     "name": "stdout",
     "output_type": "stream",
     "text": [
      "1 {'id': 1, 'name': 'Чемпионат Южного Кавказа', 'dateStart': '2003-07-25T00:00:00+04:00', 'dateEnd': '2003-07-27T00:00:00+04:00', 'type': {'id': 2, 'name': 'Обычный'}, 'season': '/seasons/1', 'orgcommittee': [], 'synchData': None, 'questionQty': None}\n"
     ]
    }
   ],
   "source": [
    "for i, t in tournaments.items():\n",
    "    print(i, t)\n",
    "    break"
   ]
  },
  {
   "cell_type": "code",
   "execution_count": 5,
   "metadata": {},
   "outputs": [],
   "source": [
    "df_tournaments = pd.DataFrame(tournaments.values())"
   ]
  },
  {
   "cell_type": "code",
   "execution_count": 6,
   "metadata": {},
   "outputs": [],
   "source": [
    "def filter_tournaments_and_results(df_tournaments):\n",
    "    \"\"\"Оставляем только турниры:\n",
    "    1) 2019-2020 годов\n",
    "    2) в которых есть информация о составе команд\n",
    "    3) в результатах которых есть ответы в поле mask\n",
    "    Возвращаем датафреймы с турнирами для трейна и теста: train_tournaments, test_tournaments \n",
    "    \"\"\"\n",
    "    train_tournaments = df_tournaments[df_tournaments.dateStart.str.startswith(\"2019\")]\n",
    "    test_tournaments = df_tournaments[df_tournaments.dateStart.str.startswith(\"2020\")]\n",
    "    \n",
    "    tour_ids_to_del = []\n",
    "    for key in [key for key in results]:\n",
    "        teams = results[key]\n",
    "        if teams is None or len(teams)==0: \n",
    "            del results[key]\n",
    "            tour_ids_to_del.append(key)\n",
    "            continue\n",
    "\n",
    "        for team in teams:\n",
    "            if 'mask' not in team or team['mask'] is None or len(team['mask'])==0 or team['mask']=='X' or team['mask']=='?':\n",
    "                tour_ids_to_del.append(key)\n",
    "\n",
    "    train_tournaments = train_tournaments[~train_tournaments.id.isin(tour_ids_to_del)].copy()\n",
    "    test_tournaments = test_tournaments[~test_tournaments.id.isin(tour_ids_to_del)].copy()    \n",
    "    \n",
    "    print(f\"Train tournaments shape: {train_tournaments.shape}, Test tournaments shape: {test_tournaments.shape}\")\n",
    "    return train_tournaments, test_tournaments"
   ]
  },
  {
   "cell_type": "code",
   "execution_count": 7,
   "metadata": {
    "scrolled": true
   },
   "outputs": [
    {
     "name": "stdout",
     "output_type": "stream",
     "text": [
      "Train tournaments shape: (671, 9), Test tournaments shape: (169, 9)\n"
     ]
    }
   ],
   "source": [
    "df_train_tournaments, df_test_tournaments = filter_tournaments_and_results(df_tournaments)"
   ]
  },
  {
   "cell_type": "markdown",
   "metadata": {},
   "source": [
    "## Baseline model"
   ]
  },
  {
   "cell_type": "markdown",
   "metadata": {},
   "source": [
    "2) Постройте baseline-модель на основе линейной или логистической регрессии, которая будет обучать рейтинг-лист игроков. Замечания и подсказки:\n",
    "* повопросные результаты — это фактически результаты броска монетки, и их предсказание скорее всего имеет отношение к бинарной классификации;\n",
    "* в разных турнирах вопросы совсем разного уровня сложности, поэтому модель должна это учитывать; скорее всего, модель должна будет явно обучать не только силу каждого игрока, но и сложность каждого вопроса;\n",
    "* для baseline-модели можно забыть о командах и считать, что повопросные результаты команды просто относятся к каждому из её игроков."
   ]
  },
  {
   "cell_type": "markdown",
   "metadata": {},
   "source": [
    "### Dataset for Baseline model"
   ]
  },
  {
   "cell_type": "code",
   "execution_count": 136,
   "metadata": {},
   "outputs": [],
   "source": [
    "def create_dataset(df):\n",
    "    \"\"\"\n",
    "    Собираем датасет для обучения линейной модели:\n",
    "    Результат ответа `result` на каждый вопрос `qid` присваиваем каждому игроку `player_id` в команде.\n",
    "    :param df: датафрейм с турнирами на вход\n",
    "    :returns: dataframe с колонками:\n",
    "    | team_id, player_id, qid, result {0, 1} |\n",
    "    \"\"\"\n",
    "    df[\"questions_total\"] = df.questionQty.apply(lambda x: sum(x.values()))\n",
    "    new_rows = []\n",
    "    qid = 0\n",
    "    for _, row in tqdm(df.iterrows(), total=df.shape[0]):\n",
    "        tourn_id = row[\"id\"]\n",
    "        tourn_result = results[tourn_id]\n",
    "        questions_total = row[\"questions_total\"]\n",
    "        for team in tourn_result:\n",
    "            team_id = team[\"team\"][\"id\"]\n",
    "            team_name = team[\"team\"][\"name\"]\n",
    "            team_questions_total = int(team[\"questionsTotal\"])\n",
    "            team_mask = team[\"mask\"].replace(\"X\", \"0\").replace(\"?\", \"0\").replace(\"-\", \"0\")\n",
    "            team_mask_len = len(team_mask)\n",
    "            if team_mask_len != questions_total:\n",
    "                continue # Не включаем записи, где количество ответов в mask не равно количеству вопросов в турнире в questionQty\n",
    "            for player in team[\"teamMembers\"]:\n",
    "                player_id = player[\"player\"][\"id\"]\n",
    "                player_name = player[\"player\"][\"surname\"] +' '+ player[\"player\"][\"name\"] +' '+ player[\"player\"][\"patronymic\"]\n",
    "                for i, q in enumerate(team_mask):\n",
    "                    new_rows.append([tourn_id, team_id, player_id, qid + i, int(q)])\n",
    "        qid += questions_total\n",
    "    return pd.DataFrame(new_rows, columns=[\"tourn_id\", \"team_id\", \"player_id\", \"qid\", \"result\"])"
   ]
  },
  {
   "cell_type": "code",
   "execution_count": 137,
   "metadata": {},
   "outputs": [
    {
     "name": "stderr",
     "output_type": "stream",
     "text": [
      "100%|██████████| 169/169 [00:09<00:00, 17.42it/s]\n",
      "100%|██████████| 671/671 [00:26<00:00, 25.34it/s]\n"
     ]
    },
    {
     "name": "stdout",
     "output_type": "stream",
     "text": [
      "Размер обучающей выборки: (17798678, 5), \n",
      "      уникальных игроков: 57357, \n",
      "      уникальных вопросов: 32987\n"
     ]
    }
   ],
   "source": [
    "test_data = create_dataset(df_test_tournaments)\n",
    "train_data = create_dataset(df_train_tournaments)\n",
    "\n",
    "print(f\"\"\"Размер обучающей выборки: {train_data.shape}, \n",
    "      уникальных игроков: {train_data.player_id.nunique()}, \n",
    "      уникальных вопросов: {train_data.qid.nunique()}\"\"\")\n",
    "\n",
    "# train_data.to_pickle(\"chgk/train_data.p\")\n",
    "# test_data.to_pickle(\"chgk/test_data.p\")"
   ]
  },
  {
   "cell_type": "code",
   "execution_count": 10,
   "metadata": {},
   "outputs": [
    {
     "data": {
      "text/html": [
       "<div>\n",
       "<style scoped>\n",
       "    .dataframe tbody tr th:only-of-type {\n",
       "        vertical-align: middle;\n",
       "    }\n",
       "\n",
       "    .dataframe tbody tr th {\n",
       "        vertical-align: top;\n",
       "    }\n",
       "\n",
       "    .dataframe thead th {\n",
       "        text-align: right;\n",
       "    }\n",
       "</style>\n",
       "<table border=\"1\" class=\"dataframe\">\n",
       "  <thead>\n",
       "    <tr style=\"text-align: right;\">\n",
       "      <th></th>\n",
       "      <th>team_id</th>\n",
       "      <th>player_id</th>\n",
       "      <th>qid</th>\n",
       "      <th>result</th>\n",
       "    </tr>\n",
       "  </thead>\n",
       "  <tbody>\n",
       "    <tr>\n",
       "      <th>0</th>\n",
       "      <td>45556</td>\n",
       "      <td>6212</td>\n",
       "      <td>0</td>\n",
       "      <td>1</td>\n",
       "    </tr>\n",
       "    <tr>\n",
       "      <th>1</th>\n",
       "      <td>45556</td>\n",
       "      <td>6212</td>\n",
       "      <td>1</td>\n",
       "      <td>1</td>\n",
       "    </tr>\n",
       "  </tbody>\n",
       "</table>\n",
       "</div>"
      ],
      "text/plain": [
       "   team_id  player_id  qid  result\n",
       "0    45556       6212    0       1\n",
       "1    45556       6212    1       1"
      ]
     },
     "execution_count": 10,
     "metadata": {},
     "output_type": "execute_result"
    }
   ],
   "source": [
    "train_data.head(2)"
   ]
  },
  {
   "cell_type": "markdown",
   "metadata": {},
   "source": [
    "### Baseline logistic regression model"
   ]
  },
  {
   "cell_type": "markdown",
   "metadata": {},
   "source": [
    "- Идея для Baseline модели - закодировать уникальные идентификаторы игроков для признаков, а в качестве таргета использовать результат ответа на вопрос. Так мы бы обучили модель бинарной классификации совсем не учитывая сам вопрос. \n",
    "- Чтобы хоть как-то учитывать вопросы, добавим в признаки закодированный идентификатор вопроса.\n",
    "- После обучения линейной модели бинарной классификации на таких признаках мы получим веса для каждого игрока, которые означают вклад в вероятность успеха ответа на вопрос. На этом можно построить простую рейтинговую систему."
   ]
  },
  {
   "cell_type": "code",
   "execution_count": 160,
   "metadata": {},
   "outputs": [
    {
     "data": {
      "text/plain": [
       "(-4.156928678259833, 4.157537008862589)"
      ]
     },
     "execution_count": 160,
     "metadata": {},
     "output_type": "execute_result"
    }
   ],
   "source": [
    "OHE = OneHotEncoder(handle_unknown='ignore')\n",
    "X_train = OHE.fit_transform(train_data[['player_id', 'qid']])\n",
    "X_test = OHE.transform(test_data[['player_id', 'qid']])\n",
    "y_train = train_data['result']\n",
    "y_test = test_data['result']\n",
    "\n",
    "# Количество колонок после OHE должно соответствовать сумме кол-во уникальных игроков + кол-во уникальных вопросов\n",
    "assert X_train.shape[1]==train_data.player_id.nunique() + train_data.qid.nunique()\n",
    "\n",
    "model = LogisticRegression(penalty='l2', solver='liblinear').fit(X_train, y_train)\n",
    "player_weights = model.coef_[0, :train_data.player_id.nunique()]\n",
    "player_weight_map = dict(zip(OHE.categories_[0], player_weights))\n",
    "player_weights.min(), player_weights.max()"
   ]
  },
  {
   "cell_type": "markdown",
   "metadata": {},
   "source": [
    "### Top-10 players Baseline"
   ]
  },
  {
   "cell_type": "code",
   "execution_count": 112,
   "metadata": {},
   "outputs": [
    {
     "name": "stdout",
     "output_type": "stream",
     "text": [
      "Руссо Максим Михайлович - 4.158\n",
      "Брутер Александра Владимировна - 4.031\n",
      "Семушин Иван Николаевич - 3.986\n",
      "Савченков Михаил Владимирович - 3.898\n",
      "Спешков Сергей Леонидович - 3.818\n",
      "Сорожкин Артём Сергеевич - 3.817\n",
      "Мереминский Станислав Григорьевич - 3.7\n",
      "Левандовский Михаил Ильич - 3.641\n",
      "Прокофьева Ирина Сергеевна - 3.6\n",
      "Николенко Сергей Игоревич - 3.582\n"
     ]
    }
   ],
   "source": [
    "best_players_baseline = list({k: v for k, v in sorted(player_weight_map.items(), key=lambda item: -item[1])}.keys())[:10]\n",
    "for id in best_players_baseline:\n",
    "    pl = players[id]\n",
    "    fullname = pl[\"surname\"]+\" \"+pl['name']+\" \"+pl[\"patronymic\"]\n",
    "    weight = round(player_weight_map[id], 3)\n",
    "    print(f\"{fullname} - {weight}\")\n",
    "    "
   ]
  },
  {
   "cell_type": "markdown",
   "metadata": {},
   "source": [
    "## Calculate correlations for Baseline model"
   ]
  },
  {
   "cell_type": "markdown",
   "metadata": {},
   "source": [
    "3) Качество рейтинг-системы оценивается качеством предсказаний результатов турниров. Но сами повопросные результаты наши модели предсказывать вряд ли смогут, ведь неизвестно, насколько сложными окажутся вопросы в будущих турнирах; да и не нужны эти предсказания сами по себе. Поэтому:\n",
    "* предложите способ предсказать результаты нового турнира с известными составами, но неизвестными вопросами, в виде ранжирования команд;\n",
    "* в качестве метрики качества на тестовом наборе давайте считать ранговые корреляции Спирмена и Кендалла (их можно взять в пакете scipy) между реальным ранжированием в результатах турнира и предсказанным моделью, усреднённые по тестовому множеству турниров."
   ]
  },
  {
   "cell_type": "code",
   "execution_count": 12,
   "metadata": {},
   "outputs": [
    {
     "name": "stderr",
     "output_type": "stream",
     "text": [
      "100%|██████████| 169/169 [00:00<00:00, 2643.02it/s]\n"
     ]
    }
   ],
   "source": [
    "true_test_results = {}\n",
    "for _, row in tqdm(df_test_tournaments.iterrows(), total=df_test_tournaments.shape[0]):\n",
    "    tourn_id = row[\"id\"]\n",
    "    tourn_result = results[tourn_id]\n",
    "    questions_total = row[\"questions_total\"]\n",
    "    true_test_results[tourn_id]=[]\n",
    "    for team in tourn_result:\n",
    "        team_id = team[\"team\"][\"id\"]\n",
    "        team_questions_total = int(team[\"questionsTotal\"])\n",
    "        true_test_results[tourn_id].append([team_id, team_questions_total])\n",
    "    true_test_results[tourn_id] = np.array(true_test_results[tourn_id])"
   ]
  },
  {
   "cell_type": "markdown",
   "metadata": {},
   "source": [
    "* Предположение: Команда ранжируется усредненным весов игроков команды. Чем больше вес, тем выше она в турнире."
   ]
  },
  {
   "cell_type": "code",
   "execution_count": 94,
   "metadata": {},
   "outputs": [],
   "source": [
    "def create_test_tourn_results(df, results, model_):\n",
    "    if len(model_.coef_.shape)==1:\n",
    "        player_weights = model_.coef_[:train_data.player_id.nunique()]\n",
    "    else:\n",
    "        player_weights = model_.coef_[0, :train_data.player_id.nunique()]\n",
    "    player_weight_map = dict(zip(OHE.categories_[0], player_weights))\n",
    "    \n",
    "    predict_test_results = {}\n",
    "    for _, row in tqdm(df.iterrows(), total=df.shape[0]):\n",
    "        tourn_id = row[\"id\"]\n",
    "        tourn_result = results[tourn_id]\n",
    "        questions_total = row[\"questions_total\"]\n",
    "        predict_test_results[tourn_id]=[]\n",
    "        for team in tourn_result:\n",
    "            team_id = int(team[\"team\"][\"id\"])\n",
    "            team_weight = 0\n",
    "            for player in team[\"teamMembers\"]:\n",
    "                player_id = player[\"player\"][\"id\"]\n",
    "                team_weight += player_weight_map.get(player_id, 0)\n",
    "            if len(team[\"teamMembers\"]) != 0:\n",
    "                team_weight = team_weight / len(team[\"teamMembers\"])\n",
    "            predict_test_results[tourn_id].append([team_id, team_weight])\n",
    "        predict_test_results[tourn_id] = np.array(predict_test_results[tourn_id])\n",
    "    return predict_test_results"
   ]
  },
  {
   "cell_type": "code",
   "execution_count": 78,
   "metadata": {},
   "outputs": [
    {
     "name": "stderr",
     "output_type": "stream",
     "text": [
      "100%|██████████| 169/169 [00:00<00:00, 1097.32it/s]\n",
      "100%|██████████| 169/169 [00:00<00:00, 1022.90it/s]"
     ]
    },
    {
     "name": "stdout",
     "output_type": "stream",
     "text": [
      "Корреляция Спирмена: 0.7647727309624819, Корреляция Кендалла: 0.6116798808927042\n"
     ]
    },
    {
     "name": "stderr",
     "output_type": "stream",
     "text": [
      "\n"
     ]
    }
   ],
   "source": [
    "# Корреляции\n",
    "def calc_correlations(df, results, model_, true_test_results):\n",
    "    all_spearman_corr = []\n",
    "    all_kendall_corr = []\n",
    "    predict_test_results = create_test_tourn_results(df, results, model_)\n",
    "    for _, row in tqdm(df.iterrows(), total=df.shape[0]):\n",
    "        tourn_id = row[\"id\"]\n",
    "        spearman_corr = spearmanr(true_test_results[tourn_id][:, 1], predict_test_results[tourn_id][:, 1])[0]\n",
    "        kendall_corr = kendalltau(true_test_results[tourn_id][:, 1], predict_test_results[tourn_id][:, 1])[0]\n",
    "        all_spearman_corr.append(spearman_corr)\n",
    "        all_kendall_corr.append(kendall_corr)\n",
    "    return np.nanmean(all_spearman_corr), np.nanmean(all_kendall_corr)\n",
    "\n",
    "spearman_corr_mean, kendall_corr_mean = calc_correlations(df_test_tournaments, results, model, true_test_results)\n",
    "print(f\"Корреляция Спирмена: {spearman_corr_mean}, Корреляция Кендалла: {kendall_corr_mean}\")"
   ]
  },
  {
   "cell_type": "markdown",
   "metadata": {},
   "source": [
    "## EM scheme"
   ]
  },
  {
   "cell_type": "markdown",
   "metadata": {},
   "source": [
    "4) Теперь главное: ЧГК — это всё-таки командная игра. Поэтому:\n",
    "* предложите способ учитывать то, что на вопрос отвечают сразу несколько игроков; скорее всего, понадобятся скрытые переменные; не стесняйтесь делать упрощающие предположения, но теперь переменные “игрок X ответил на вопрос Y” при условии данных должны стать зависимыми для игроков одной и той же команды;\n",
    "* разработайте EM-схему для обучения этой модели, реализуйте её в коде;\n",
    "* обучите несколько итераций, убедитесь, что целевые метрики со временем растут (скорее всего, ненамного, но расти должны), выберите лучшую модель, используя целевые метрики.\n"
   ]
  },
  {
   "cell_type": "markdown",
   "metadata": {},
   "source": [
    "ЕМ схема:\n",
    "* Вводим скрытую переменную $z_i$ - ответ игрока, при условии, что он играет в данной команде.\n",
    "* Начальное приближение для $z_i$ на нулевом шаге - ответы Baseline модели.\n",
    "* На Е-шаге: \\\n",
    "    Обновляем предсказания ответа игрока: если команда не ответила на вопрос, то $z_i = 0$, \\\n",
    "    если ответила, то $z_i = P(x_i)/(1- prod_{x_i \\in T}(1 - P(x_i)))$\n",
    "* На М-шаге: \\\n",
    "    Максимизируем матожидание правдоподобия с помощью обучения линейных регрессий на ответах, полученных на Е-шаге."
   ]
  },
  {
   "cell_type": "code",
   "execution_count": 8,
   "metadata": {},
   "outputs": [],
   "source": [
    "model = LogisticRegression(penalty='l2', solver='liblinear').fit(X_train, y_train)\n",
    "p_predict = model.predict_proba(X_train)[:, 1]"
   ]
  },
  {
   "cell_type": "code",
   "execution_count": 16,
   "metadata": {},
   "outputs": [
    {
     "data": {
      "text/html": [
       "<div>\n",
       "<style scoped>\n",
       "    .dataframe tbody tr th:only-of-type {\n",
       "        vertical-align: middle;\n",
       "    }\n",
       "\n",
       "    .dataframe tbody tr th {\n",
       "        vertical-align: top;\n",
       "    }\n",
       "\n",
       "    .dataframe thead th {\n",
       "        text-align: right;\n",
       "    }\n",
       "</style>\n",
       "<table border=\"1\" class=\"dataframe\">\n",
       "  <thead>\n",
       "    <tr style=\"text-align: right;\">\n",
       "      <th></th>\n",
       "      <th>team_id</th>\n",
       "      <th>player_id</th>\n",
       "      <th>qid</th>\n",
       "      <th>result</th>\n",
       "    </tr>\n",
       "  </thead>\n",
       "  <tbody>\n",
       "    <tr>\n",
       "      <th>0</th>\n",
       "      <td>45556</td>\n",
       "      <td>6212</td>\n",
       "      <td>0</td>\n",
       "      <td>1</td>\n",
       "    </tr>\n",
       "    <tr>\n",
       "      <th>1</th>\n",
       "      <td>45556</td>\n",
       "      <td>6212</td>\n",
       "      <td>1</td>\n",
       "      <td>1</td>\n",
       "    </tr>\n",
       "  </tbody>\n",
       "</table>\n",
       "</div>"
      ],
      "text/plain": [
       "   team_id  player_id  qid  result\n",
       "0    45556       6212    0       1\n",
       "1    45556       6212    1       1"
      ]
     },
     "execution_count": 16,
     "metadata": {},
     "output_type": "execute_result"
    }
   ],
   "source": [
    "train_data.head(2)"
   ]
  },
  {
   "cell_type": "code",
   "execution_count": 98,
   "metadata": {},
   "outputs": [
    {
     "name": "stderr",
     "output_type": "stream",
     "text": [
      "  0%|          | 0/5 [00:00<?, ?it/s]\n",
      "  0%|          | 0/169 [00:00<?, ?it/s]\u001b[A\n",
      "100%|██████████| 169/169 [00:00<00:00, 1242.32it/s]A\n",
      "\n",
      "  0%|          | 0/169 [00:00<?, ?it/s]\u001b[A\n",
      "100%|██████████| 169/169 [00:00<00:00, 970.31it/s][A\n",
      " 20%|██        | 1/5 [03:30<14:01, 210.29s/it]"
     ]
    },
    {
     "name": "stdout",
     "output_type": "stream",
     "text": [
      "0: Корреляция Спирмена: 0.7634524827414099, Корреляция Кендалла: 0.6105569462692911\n"
     ]
    },
    {
     "name": "stderr",
     "output_type": "stream",
     "text": [
      "\n",
      "  0%|          | 0/169 [00:00<?, ?it/s]\u001b[A\n",
      "100%|██████████| 169/169 [00:00<00:00, 1029.09it/s]A\n",
      "\n",
      "  0%|          | 0/169 [00:00<?, ?it/s]\u001b[A\n",
      "100%|██████████| 169/169 [00:00<00:00, 915.59it/s][A\n",
      " 40%|████      | 2/5 [06:59<10:29, 209.89s/it]"
     ]
    },
    {
     "name": "stdout",
     "output_type": "stream",
     "text": [
      "1: Корреляция Спирмена: 0.7632969041507203, Корреляция Кендалла: 0.609784774029013\n"
     ]
    },
    {
     "name": "stderr",
     "output_type": "stream",
     "text": [
      "\n",
      "  0%|          | 0/169 [00:00<?, ?it/s]\u001b[A\n",
      "100%|██████████| 169/169 [00:00<00:00, 1245.37it/s]A\n",
      "\n",
      "  0%|          | 0/169 [00:00<?, ?it/s]\u001b[A\n",
      "100%|██████████| 169/169 [00:00<00:00, 1018.23it/s]\u001b[A\n",
      " 60%|██████    | 3/5 [10:34<07:03, 211.54s/it]"
     ]
    },
    {
     "name": "stdout",
     "output_type": "stream",
     "text": [
      "2: Корреляция Спирмена: 0.7641327555017509, Корреляция Кендалла: 0.6094185322439536\n"
     ]
    },
    {
     "name": "stderr",
     "output_type": "stream",
     "text": [
      "\n",
      "  0%|          | 0/169 [00:00<?, ?it/s]\u001b[A\n",
      "100%|██████████| 169/169 [00:00<00:00, 1230.56it/s]A\n",
      "\n",
      "  0%|          | 0/169 [00:00<?, ?it/s]\u001b[A\n",
      "100%|██████████| 169/169 [00:00<00:00, 942.28it/s][A\n",
      " 80%|████████  | 4/5 [14:20<03:35, 215.93s/it]"
     ]
    },
    {
     "name": "stdout",
     "output_type": "stream",
     "text": [
      "3: Корреляция Спирмена: 0.7658149967789204, Корреляция Кендалла: 0.6103906410460618\n"
     ]
    },
    {
     "name": "stderr",
     "output_type": "stream",
     "text": [
      "\n",
      "  0%|          | 0/169 [00:00<?, ?it/s]\u001b[A\n",
      "100%|██████████| 169/169 [00:00<00:00, 1045.42it/s]A\n",
      "\n",
      "  0%|          | 0/169 [00:00<?, ?it/s]\u001b[A\n",
      "100%|██████████| 169/169 [00:00<00:00, 896.81it/s][A\n",
      "100%|██████████| 5/5 [17:54<00:00, 214.81s/it]"
     ]
    },
    {
     "name": "stdout",
     "output_type": "stream",
     "text": [
      "4: Корреляция Спирмена: 0.7655817555873573, Корреляция Кендалла: 0.6103729560354443\n"
     ]
    },
    {
     "name": "stderr",
     "output_type": "stream",
     "text": [
      "\n"
     ]
    }
   ],
   "source": [
    "N = 5\n",
    "predict_proba = model.predict_proba(X_train)[:, 1]\n",
    "for i in tqdm(range(N)):\n",
    "    # E-шаг\n",
    "    train_data[\"p\"] = predict_proba\n",
    "    train_data[\"1_p\"] = 1 - predict_proba\n",
    "    z_i_update = (train_data[\"p\"]/(1 - train_data.groupby([\"team_id\",\"qid\"])[\"1_p\"].transform('prod')))*train_data[\"result\"]\n",
    "    z_i_update = np.clip(z_i_update, 1e-6, 1-1e-6)\n",
    "\n",
    "    # М-шаг\n",
    "    linreg_model = LinearRegression().fit(X_train, logit(z_i_update))\n",
    "    predict_proba = expit(linreg_model.predict(X_train))\n",
    "\n",
    "    # Корреляции\n",
    "    spearmn, kendl = calc_correlations(df_test_tournaments, results, linreg_model, true_test_results)\n",
    "    print(f\"{i}: Корреляция Спирмена: {spearmn}, Корреляция Кендалла: {kendl}\")\n",
    "    "
   ]
  },
  {
   "cell_type": "markdown",
   "metadata": {},
   "source": [
    "### Выводы"
   ]
  },
  {
   "cell_type": "markdown",
   "metadata": {},
   "source": [
    "- После применения ЕМ-алгоритма удалось добиться улучшения метрик корреляций\n",
    "- В сравнении с Baseline-ом, который не учитывает результаты в команде, ЕМ-алгоритм дает лучшие результаты."
   ]
  },
  {
   "cell_type": "markdown",
   "metadata": {},
   "source": [
    "## Top tournaments"
   ]
  },
  {
   "cell_type": "markdown",
   "metadata": {},
   "source": [
    "А что там с вопросами? Постройте “рейтинг-лист” турниров по сложности вопросов. Соответствует ли он интуиции (например, на чемпионате мира в целом должны быть сложные вопросы, а на турнирах для школьников — простые)?"
   ]
  },
  {
   "cell_type": "markdown",
   "metadata": {},
   "source": [
    "Сложность турнира рассчитываем как среднюю сложность вопросов турнира."
   ]
  },
  {
   "cell_type": "markdown",
   "metadata": {},
   "source": [
    "### Для Baseline модели"
   ]
  },
  {
   "cell_type": "code",
   "execution_count": 162,
   "metadata": {},
   "outputs": [
    {
     "name": "stdout",
     "output_type": "stream",
     "text": [
      "Топ-20 самых сложных турниров: \n",
      "\n",
      "Чемпионат Санкт-Петербурга. Первая лига\n",
      "Угрюмый Ёрш\n",
      "Синхрон высшей лиги Москвы\n",
      "Первенство правого полушария\n",
      "Воображаемый музей\n",
      "Записки охотника\n",
      "Кубок городов\n",
      "Знание – Сила VI\n",
      "Ускользающая сова\n",
      "Чемпионат России\n",
      "Чемпионат Минска. Лига А. Тур четвёртый\n",
      "Чемпионат Мира. Этап 2 Группа С\n",
      "All Cats Are Beautiful\n",
      "Чемпионат Мира. Этап 2. Группа В\n",
      "VERSUS: Коробейников vs. Матвеев\n",
      "Антибинго\n",
      "Кубок Москвы\n",
      "Львов зимой. Адвокат\n",
      "Зеркало мемориала памяти Михаила Басса\n",
      "Чемпионат Мира. Этап 1. Группа С\n",
      "\n",
      "\n",
      "Топ-20 самых легких турниров: \n",
      "\n",
      "Лига вузов. IV тур\n",
      "Школьный Синхрон-lite. Выпуск 3.1\n",
      "Школьный Синхрон-lite. Выпуск 2.3\n",
      "Второй тематический турнир имени Джоуи Триббиани\n",
      "Школьная лига. II тур.\n",
      "Межфакультетский кубок МГУ. Отбор №4\n",
      "Малый кубок Физтеха\n",
      "(а)Синхрон-lite. Лига старта. Эпизод X\n",
      "Школьная лига. III тур.\n",
      "Школьная лига\n",
      "(а)Синхрон-lite. Лига старта. Эпизод VI\n",
      "Школьная лига. I тур.\n",
      "(а)Синхрон-lite. Лига старта. Эпизод IV\n",
      "Студенческий чемпионат Калининградской области\n",
      "Синхрон Лиги Разума\n",
      "Школьный Синхрон-lite. Выпуск 2.5\n",
      "(а)Синхрон-lite. Лига старта. Эпизод VII\n",
      "(а)Синхрон-lite. Лига старта. Эпизод IX\n",
      "(а)Синхрон-lite. Лига старта. Эпизод III\n",
      "(а)Синхрон-lite. Лига старта. Эпизод V\n"
     ]
    }
   ],
   "source": [
    "quest_weights = model.coef_[0, train_data.player_id.nunique():]\n",
    "df_for_raiting = train_data.drop_duplicates([\"tourn_id\", \"qid\"])[[\"tourn_id\"]]\n",
    "df_for_raiting[\"weight\"] = quest_weights\n",
    "res_for_rating = df_for_raiting.groupby(\"tourn_id\").mean()\n",
    "\n",
    "print(\"Топ-20 самых сложных турниров: \\n\")\n",
    "for id in res_for_rating.sort_values(\"weight\").index[:20]:\n",
    "    print(tournaments[id][\"name\"])\n",
    "\n",
    "print(\"\\n\")\n",
    "\n",
    "print(\"Топ-20 самых легких турниров: \\n\")\n",
    "for id in res_for_rating.sort_values(\"weight\").index[-20:]:\n",
    "    print(tournaments[id][\"name\"])"
   ]
  },
  {
   "cell_type": "markdown",
   "metadata": {},
   "source": [
    "### Для ЕМ модели"
   ]
  },
  {
   "cell_type": "code",
   "execution_count": 148,
   "metadata": {},
   "outputs": [],
   "source": [
    "quest_weights = linreg_model.coef_[train_data.player_id.nunique():]\n",
    "df_for_raiting = train_data.drop_duplicates([\"tourn_id\", \"qid\"])[[\"tourn_id\"]]\n",
    "df_for_raiting[\"weight\"] = quest_weights\n",
    "res_for_rating = df_for_raiting.groupby(\"tourn_id\").mean()"
   ]
  },
  {
   "cell_type": "code",
   "execution_count": 157,
   "metadata": {},
   "outputs": [
    {
     "name": "stdout",
     "output_type": "stream",
     "text": [
      "Топ-20 самых сложных турниров: \n",
      "\n",
      "Чемпионат Санкт-Петербурга. Первая лига\n",
      "Угрюмый Ёрш\n",
      "Синхрон высшей лиги Москвы\n",
      "Воображаемый музей\n",
      "Первенство правого полушария\n",
      "Чемпионат Мира. Этап 2. Группа В\n",
      "Чемпионат России\n",
      "Знание – Сила VI\n",
      "Чемпионат Мира. Этап 2. Группа А\n",
      "Ускользающая сова\n",
      "Записки охотника\n",
      "Зеркало мемориала памяти Михаила Басса\n",
      "Чемпионат Мира. Этап 3. Группа В\n",
      "Чемпионат Минска. Лига А. Тур четвёртый\n",
      "Чемпионат Мира. Этап 2 Группа С\n",
      "Чемпионат Мира. Финал. Группа С\n",
      "Львов зимой. Адвокат\n",
      "Чемпионат Мира. Этап 1. Группа С\n",
      "Чемпионат Мира. Этап 3. Группа С\n",
      "Мемориал Дмитрия Коноваленко\n"
     ]
    }
   ],
   "source": [
    "print(\"Топ-20 самых сложных турниров: \\n\")\n",
    "for id in res_for_rating.sort_values(\"weight\").index[:20]:\n",
    "    print(tournaments[id][\"name\"])"
   ]
  },
  {
   "cell_type": "code",
   "execution_count": 158,
   "metadata": {},
   "outputs": [
    {
     "name": "stdout",
     "output_type": "stream",
     "text": [
      "Топ-20 самых легких турниров: \n",
      "\n",
      "Школьный Синхрон-lite. Выпуск 2.3\n",
      "(а)Синхрон-lite. Лига старта. Эпизод X\n",
      "Малый кубок Физтеха\n",
      "(а)Синхрон-lite. Лига старта. Эпизод IV\n",
      "Школьный Синхрон-lite. Выпуск 3.3\n",
      "Второй тематический турнир имени Джоуи Триббиани\n",
      "Школьный Синхрон-lite. Выпуск 3.1\n",
      "Межфакультетский кубок МГУ. Отбор №4\n",
      "Школьная лига. II тур.\n",
      "(а)Синхрон-lite. Лига старта. Эпизод III\n",
      "(а)Синхрон-lite. Лига старта. Эпизод IX\n",
      "(а)Синхрон-lite. Лига старта. Эпизод VII\n",
      "Школьная лига\n",
      "Школьный Синхрон-lite. Выпуск 2.5\n",
      "Школьная лига. I тур.\n",
      "Школьная лига. III тур.\n",
      "Студенческий чемпионат Калининградской области\n",
      "(а)Синхрон-lite. Лига старта. Эпизод V\n",
      "Синхрон Лиги Разума\n",
      "One ring - async\n"
     ]
    }
   ],
   "source": [
    "print(\"Топ-20 самых легких турниров: \\n\")\n",
    "for id in res_for_rating.sort_values(\"weight\").index[-20:]:\n",
    "    print(tournaments[id][\"name\"])"
   ]
  },
  {
   "cell_type": "markdown",
   "metadata": {},
   "source": [
    "### Выводы"
   ]
  },
  {
   "cell_type": "markdown",
   "metadata": {},
   "source": [
    "* Для ЕМ модели результаты сложности турниров совпадают с ожидаемыми: \n",
    "    * Легкие турниры - это турниры начального уровня, школьные\n",
    "    * Сложные турниры в основном включают в себя Мировые этапы\n",
    "* Для Baseline модели результаты для Топ-20 сложных турниров не совпадают с ожидаемыми - в них очень мало мировых турниров.\n",
    "* Можно сделать вывод, что ЕМ-алгоритм помог нам выстроить не только рейтинг игроков, но рейтинг сложности турниров."
   ]
  },
  {
   "cell_type": "code",
   "execution_count": null,
   "metadata": {},
   "outputs": [],
   "source": []
  }
 ],
 "metadata": {
  "kernelspec": {
   "display_name": "venv made2020",
   "language": "python",
   "name": "made_venv"
  },
  "language_info": {
   "codemirror_mode": {
    "name": "ipython",
    "version": 3
   },
   "file_extension": ".py",
   "mimetype": "text/x-python",
   "name": "python",
   "nbconvert_exporter": "python",
   "pygments_lexer": "ipython3",
   "version": "3.6.8"
  },
  "toc": {
   "base_numbering": 1,
   "nav_menu": {},
   "number_sections": true,
   "sideBar": true,
   "skip_h1_title": false,
   "title_cell": "Table of Contents",
   "title_sidebar": "Contents",
   "toc_cell": false,
   "toc_position": {
    "height": "calc(100% - 180px)",
    "left": "10px",
    "top": "150px",
    "width": "165px"
   },
   "toc_section_display": true,
   "toc_window_display": true
  }
 },
 "nbformat": 4,
 "nbformat_minor": 4
}
